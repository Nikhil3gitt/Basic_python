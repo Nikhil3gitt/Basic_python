{
  "nbformat": 4,
  "nbformat_minor": 0,
  "metadata": {
    "colab": {
      "provenance": []
    },
    "kernelspec": {
      "name": "python3",
      "display_name": "Python 3"
    },
    "language_info": {
      "name": "python"
    }
  },
  "cells": [
    {
      "cell_type": "markdown",
      "source": [
        "# if-Else"
      ],
      "metadata": {
        "id": "E0WU_hNwY2EY"
      }
    },
    {
      "cell_type": "code",
      "source": [
        "score = float(input(\"Enter your score: \"))\n",
        "\n",
        "if score >= 90:\n",
        "    print(\"Grade: A\")\n",
        "elif score >= 80:\n",
        "    print(\"Grade: B\")\n",
        "elif score >= 70:\n",
        "    print(\"Grade: C\")\n",
        "elif score >= 60:\n",
        "    print(\"Grade: D\")\n",
        "else:\n",
        "    print(\"Grade: F\")\n"
      ],
      "metadata": {
        "id": "eTXUypN0Y95X"
      },
      "execution_count": null,
      "outputs": []
    },
    {
      "cell_type": "markdown",
      "source": [
        "# Loops"
      ],
      "metadata": {
        "id": "NQeoshA0ZaB8"
      }
    },
    {
      "cell_type": "markdown",
      "source": [
        "For"
      ],
      "metadata": {
        "id": "ptyt_-UaZzAp"
      }
    },
    {
      "cell_type": "code",
      "source": [
        "for number in range(1, 11):\n",
        "    if number % 5 == 0:\n",
        "        print(f\"{number} is a multiple of 5\")\n",
        "    elif number % 2 == 0:\n",
        "        print(f\"{number} is even\")\n",
        "    else:\n",
        "        print(f\"{number} is odd\")\n"
      ],
      "metadata": {
        "id": "_gmgGCyVY9zc"
      },
      "execution_count": null,
      "outputs": []
    },
    {
      "cell_type": "markdown",
      "source": [
        "While"
      ],
      "metadata": {
        "id": "86hI-551Z1B3"
      }
    },
    {
      "cell_type": "code",
      "source": [
        "counter = 1\n",
        "\n",
        "while counter <= 20:\n",
        "    if counter % 5 == 0:\n",
        "        print(f\"{counter} is a multiple of 5\")\n",
        "    elif counter % 2 == 0:\n",
        "        print(f\"{counter} is even\")\n",
        "    else:\n",
        "        print(f\"{counter} is odd\")\n",
        "\n",
        "    counter += 3  # Increment the counter by 3"
      ],
      "metadata": {
        "id": "-HWIbqQcY9wg"
      },
      "execution_count": null,
      "outputs": []
    },
    {
      "cell_type": "markdown",
      "source": [
        "# loop control statement\n",
        "\n",
        "1.   break: Used to exit a loop prematurely based on a condition.\n",
        "2.   continue: Used to skip the current iteration of a loop based on a condition.\n",
        "3.   else (with loops): Executed after a loop completes all its iterations without encountering a break statement.\n",
        "\n",
        "\n",
        "\n",
        "\n",
        "\n",
        "\n",
        "\n"
      ],
      "metadata": {
        "id": "7uMA8FPbbpQo"
      }
    },
    {
      "cell_type": "code",
      "source": [
        "\n",
        "numbers = [1, 2, 3, 4, 5, 6, 7, 8, 9, 10]\n",
        "\n",
        "for i in numbers:\n",
        "    # Check if the number is even\n",
        "    if i % 2 == 0:\n",
        "        print(f\"Skipping even number: {i}\")\n",
        "        continue  # Skip to the next iteration if the number is even\n",
        "\n",
        "    # Check if the number is greater than 6\n",
        "    if i > 6:\n",
        "        print(f\"Exiting loop at number: {i}\")\n",
        "        break  # Exit the loop if the number is greater than 5\n",
        "\n",
        "    print(f\"Processing number: {i}\")\n",
        "\n",
        "else:\n",
        "    # This block executes if the loop completes all iterations without encountering a break statement\n",
        "    print(\"Loop completed successfully without encountering a break statement\")\n"
      ],
      "metadata": {
        "colab": {
          "base_uri": "https://localhost:8080/"
        },
        "id": "9FcDJ0drY9YE",
        "outputId": "dd031716-c40a-40c5-9822-76720c2923e2"
      },
      "execution_count": 2,
      "outputs": [
        {
          "output_type": "stream",
          "name": "stdout",
          "text": [
            "Processing number: 1\n",
            "Skipping even number: 2\n",
            "Processing number: 3\n",
            "Skipping even number: 4\n",
            "Processing number: 5\n",
            "Skipping even number: 6\n",
            "Exiting loop at number: 7\n"
          ]
        }
      ]
    },
    {
      "cell_type": "markdown",
      "source": [
        "# Function"
      ],
      "metadata": {
        "id": "1ss-lZRsd_QP"
      }
    },
    {
      "cell_type": "code",
      "source": [
        "def greet(name):\n",
        "    print(\"Hello,\", name, \"!\")\n",
        "\n",
        "greet(\"Nik\")\n"
      ],
      "metadata": {
        "colab": {
          "base_uri": "https://localhost:8080/"
        },
        "id": "_Pxq3MQaeC0j",
        "outputId": "423e35cb-0a74-4c6c-af01-feb89982d314"
      },
      "execution_count": 3,
      "outputs": [
        {
          "output_type": "stream",
          "name": "stdout",
          "text": [
            "Hello, Nik !\n"
          ]
        }
      ]
    },
    {
      "cell_type": "code",
      "source": [
        "def add(a, b):\n",
        "    return a + b\n",
        "\n",
        "result = add(3, 4) # to store output value of functon\n",
        "print(result). # to display anything"
      ],
      "metadata": {
        "colab": {
          "base_uri": "https://localhost:8080/"
        },
        "id": "-GEnWeGteDgg",
        "outputId": "18f1b26d-9ed4-47cb-d6bf-fb2b7f382e52"
      },
      "execution_count": 5,
      "outputs": [
        {
          "output_type": "stream",
          "name": "stdout",
          "text": [
            "7\n"
          ]
        }
      ]
    },
    {
      "cell_type": "markdown",
      "source": [
        "**list in Python**\n"
      ],
      "metadata": {
        "id": "7OwudZkhuJo9"
      }
    },
    {
      "cell_type": "code",
      "source": [
        "Mylist = [1,2,3,4,\"nik\",\"N\", \"i\"]\n",
        "numlist = [0,1,2,3,4,5,6,7,8,9,10]\n",
        "\n",
        "print(Mylist)\n",
        "# in pyhton indexing start from 0\n",
        "#lower bound value includes the value in list whereas uperbound doest count in the list .\n",
        "print(numlist[0:3])\n",
        "#alternative entry on the list\n",
        "print(numlist[::2])"
      ],
      "metadata": {
        "colab": {
          "base_uri": "https://localhost:8080/"
        },
        "id": "eVzhDNJFxFXd",
        "outputId": "f44e4f2c-65c6-446f-b39a-fa30bf88f146"
      },
      "execution_count": null,
      "outputs": [
        {
          "output_type": "stream",
          "name": "stdout",
          "text": [
            "[1, 2, 3, 4, 'nik', 'N', 'i']\n",
            "[0, 1, 2]\n",
            "[0, 2, 4]\n"
          ]
        }
      ]
    },
    {
      "cell_type": "code",
      "source": [
        "#to print 3rd alternative element in the list\n",
        "print(Mylist[0:8:3])\n",
        "\n",
        "# in python there is 2 type of indexing if you go left to right it will ne 0,1,2,3\n",
        "# if you go right to left then -1,-2,-3,-4\n",
        "print(Mylist[0:-1])\n",
        "\n",
        "# to print list in reverese manner\n",
        "print (Mylist[::-1])"
      ],
      "metadata": {
        "colab": {
          "base_uri": "https://localhost:8080/"
        },
        "id": "oTeJK0a7zpqN",
        "outputId": "7fdfea99-4e66-4ed4-fd4e-310e2c399f98"
      },
      "execution_count": null,
      "outputs": [
        {
          "output_type": "stream",
          "name": "stdout",
          "text": [
            "[1, 4, 'i']\n",
            "[1, 2, 3, 4, 'nik', 'N']\n",
            "['i', 'N', 'nik', 4, 3, 2, 1]\n"
          ]
        }
      ]
    },
    {
      "cell_type": "markdown",
      "source": [
        "# data addition in List"
      ],
      "metadata": {
        "id": "vFJ8w7Cx0aP5"
      }
    },
    {
      "cell_type": "code",
      "source": [
        "fruits = [\"Banana\",\"Apple\"]\n",
        "\n",
        "fruits.append(\"Mango\")\n",
        "\n",
        "print(fruits)\n",
        "#with appends method data will be added on the last position\n"
      ],
      "metadata": {
        "colab": {
          "base_uri": "https://localhost:8080/"
        },
        "id": "kpKZNnKX0R21",
        "outputId": "3ff0a992-42c5-4658-8af4-6ace69e969fe"
      },
      "execution_count": null,
      "outputs": [
        {
          "output_type": "stream",
          "name": "stdout",
          "text": [
            "['Banana', 'Apple', 'Mango']\n"
          ]
        }
      ]
    },
    {
      "cell_type": "code",
      "source": [
        "#addition of 2 List\n",
        "\n",
        "List1 = [1,2,3,4,5]\n",
        "List2 = [1,2,5,9]\n",
        "\n",
        "print(List1 + List2)\n",
        "\n",
        "#if I multiply List with X(integer) it will add itself X times\n",
        "print(List1*2)"
      ],
      "metadata": {
        "colab": {
          "base_uri": "https://localhost:8080/"
        },
        "id": "EznQGKw41w7d",
        "outputId": "a327a8f5-9edb-4dc2-8d45-1cedf3d16382"
      },
      "execution_count": null,
      "outputs": [
        {
          "output_type": "stream",
          "name": "stdout",
          "text": [
            "[1, 2, 3, 4, 5, 1, 2, 5, 9]\n",
            "[1, 2, 3, 4, 5, 1, 2, 3, 4, 5]\n"
          ]
        }
      ]
    },
    {
      "cell_type": "code",
      "source": [
        "#Extend method\n",
        "\n",
        "# if we wont to add List 2 in list 1 then we can use Extend method\n",
        "List1 = [1,2,3,4,5]\n",
        "List2 = [1,2,5,9]\n",
        "List1.extend(List2)\n",
        "print(List1)\n",
        "\n",
        "#if we use append method here it will add whole list2 in list 1\n",
        "List1 = [1,2,4,5]\n",
        "List2 = [7,5,9]\n",
        "\n",
        "List1.append(List2)\n",
        "print(List1)\n"
      ],
      "metadata": {
        "colab": {
          "base_uri": "https://localhost:8080/"
        },
        "id": "M8zBmF7V3MrE",
        "outputId": "4bce9885-cf2b-4b23-d01a-a653ead53a04"
      },
      "execution_count": null,
      "outputs": [
        {
          "output_type": "stream",
          "name": "stdout",
          "text": [
            "[1, 2, 3, 4, 5, 1, 2, 5, 9]\n",
            "[1, 2, 4, 5, [7, 5, 9]]\n"
          ]
        }
      ]
    },
    {
      "cell_type": "code",
      "source": [
        "#If we wont to add data on specific index we just need to Use insert\n",
        "\n",
        "fruits1 = [\"Banana\",\"Apple\",\"cherry\",\"grapes\"]\n",
        "\n",
        "fruits1.insert(1,\"Mango\")\n",
        "print(fruits1)\n",
        "\n",
        "#whe we are looking to find any postion for any element in List\n",
        "print(fruits1.index(\"cherry\"))"
      ],
      "metadata": {
        "colab": {
          "base_uri": "https://localhost:8080/"
        },
        "id": "_Nx7akDu1QPL",
        "outputId": "0548b50c-8e64-4e03-d7ca-d4dabf764fbc"
      },
      "execution_count": null,
      "outputs": [
        {
          "output_type": "stream",
          "name": "stdout",
          "text": [
            "['Banana', 'Mango', 'Apple', 'cherry', 'grapes']\n",
            "3\n"
          ]
        }
      ]
    },
    {
      "cell_type": "markdown",
      "source": [
        "# Data Deletion in list"
      ],
      "metadata": {
        "id": "W7f-5nJC4C8o"
      }
    },
    {
      "cell_type": "code",
      "source": [
        "names = [\"a\",\"b\",\"c\",\"d\",\"e\",\"f\"]\n",
        "\n",
        "#If we just want to remove any element from List from any position  we can use POP method\n",
        "\n",
        "names.pop(2)\n",
        "print(names)\n",
        "\n",
        "#del function also works the same\n",
        "\n",
        "del names[1]\n",
        "print(names)"
      ],
      "metadata": {
        "colab": {
          "base_uri": "https://localhost:8080/"
        },
        "id": "Xz0IGGPN4Rvx",
        "outputId": "3211e94e-f3ad-4e1b-b736-7bf77f08dfb6"
      },
      "execution_count": null,
      "outputs": [
        {
          "output_type": "stream",
          "name": "stdout",
          "text": [
            "['a', 'b', 'd', 'e', 'f']\n",
            "['a', 'd', 'e', 'f']\n"
          ]
        }
      ]
    },
    {
      "cell_type": "code",
      "source": [
        "fruits = [\"Apple\", \"Banana\",\"grapes\", \"Mango\", \"strawberry\"]\n",
        "\n",
        "#if we want to remove perticulal element from list then we use Remove\n",
        "\n",
        "fruits.remove(\"Mango\")\n",
        "print(fruits)\n",
        "# if we have 2 mango in the List then it will remove only first one\n",
        "\n",
        "fruits = [\"Apple\",\"Mango\",\"Banana\",\"grapes\", \"Mango\", \"strawberry\"]\n",
        "\n",
        "fruits.remove(\"Mango\")\n",
        "print(fruits)\n",
        "\n",
        "# Remove all occurrences of \"Mango\" using a loop\n",
        "fruits = [\"Apple\",\"Mango\",\"Banana\",\"grapes\", \"Mango\", \"strawberry\"]\n",
        "\n",
        "while \"Mango\" in fruits:\n",
        "    fruits.remove(\"Mango\")\n",
        "\n",
        "print(fruits)"
      ],
      "metadata": {
        "colab": {
          "base_uri": "https://localhost:8080/"
        },
        "id": "kIJY02_k5leU",
        "outputId": "f5772384-839b-4b0b-c846-c4fcd3e78f29"
      },
      "execution_count": null,
      "outputs": [
        {
          "output_type": "stream",
          "name": "stdout",
          "text": [
            "['Apple', 'Banana', 'grapes', 'strawberry']\n",
            "['Apple', 'Banana', 'grapes', 'Mango', 'strawberry']\n",
            "['Apple', 'Banana', 'grapes', 'strawberry']\n"
          ]
        }
      ]
    },
    {
      "cell_type": "markdown",
      "source": [
        "**Other Function related to LIST**"
      ],
      "metadata": {
        "id": "Pew9uN_W7fqK"
      }
    },
    {
      "cell_type": "code",
      "source": [
        "#Count Function\n",
        "fruits = [\"Apple\",\"Mango\",\"Banana\",\"grapes\", \"Mango\", \"strawberry\"]\n",
        "\n",
        "print(fruits.count(\"Mango\"))\n",
        "\n",
        "#Len Function to find the Length of List\n",
        "\n",
        "print(len(fruits))\n",
        "\n",
        "#Sort function (it actualy sorts original list)\n",
        "\n",
        "fruits.sort()\n",
        "print(fruits)\n",
        "\n",
        "#if you dont Want to sort actial List and want sorted element for output\n",
        "fruits = [\"Apple\",\"Mango\",\"Banana\",\"grapes\", \"Mango\", \"strawberry\"]\n",
        "print(sorted(fruits))\n",
        "print(fruits)\n",
        "\n",
        "#clear (will remove all element from list)\n",
        "fruits.clear()\n",
        "print(fruits)\n",
        "\n",
        "# what if we want duplicate list # Copy\n",
        "fruits = [\"Apple\",\"Mango\",\"Banana\",\"grapes\", \"Mango\", \"strawberry\"]\n",
        "new_fruits = fruits.copy()\n",
        "print(new_fruits)"
      ],
      "metadata": {
        "colab": {
          "base_uri": "https://localhost:8080/"
        },
        "id": "H_K7As8l7kKJ",
        "outputId": "bee02111-5366-4a4d-acba-6800c73aea4e"
      },
      "execution_count": null,
      "outputs": [
        {
          "output_type": "stream",
          "name": "stdout",
          "text": [
            "2\n",
            "6\n",
            "['Apple', 'Banana', 'Mango', 'Mango', 'grapes', 'strawberry']\n",
            "['Apple', 'Banana', 'Mango', 'Mango', 'grapes', 'strawberry']\n",
            "['Apple', 'Mango', 'Banana', 'grapes', 'Mango', 'strawberry']\n",
            "[]\n",
            "['Apple', 'Mango', 'Banana', 'grapes', 'Mango', 'strawberry']\n"
          ]
        }
      ]
    },
    {
      "cell_type": "markdown",
      "source": [
        "# join and Split method"
      ],
      "metadata": {
        "id": "Tag7ZCXn_Lhp"
      }
    },
    {
      "cell_type": "code",
      "source": [
        "#split\n",
        "info = \"Nikhil 24 Trent MBDA\"\n",
        "\n",
        "print(info.split())\n",
        "\n",
        "a= \"nikhilbhail\"\n",
        "print(a.split(\"i\"))\n",
        "\n",
        "name, age, university, course = \"Nikhil,24,Trent,MBDA\".split(\",\")\n",
        "\n",
        "print(age)\n",
        "\n",
        "\n",
        "#Join method\n",
        "detail = ['Nikhil', \"Nakum\"]\n",
        "print((\" \".join(detail)))"
      ],
      "metadata": {
        "colab": {
          "base_uri": "https://localhost:8080/"
        },
        "id": "L-8ZQTkx_TI5",
        "outputId": "deaaa208-fa65-4968-e3ad-72085703a781"
      },
      "execution_count": null,
      "outputs": [
        {
          "output_type": "stream",
          "name": "stdout",
          "text": [
            "['Nikhil', '24', 'Trent', 'MBDA']\n",
            "['n', 'kh', 'lbha', 'l']\n",
            "24\n",
            "Nikhil Nakum\n"
          ]
        }
      ]
    },
    {
      "cell_type": "code",
      "source": [
        "numbers = [1,4,5,7,8,10,34]\n",
        "print(min(numbers))\n",
        "print(max(numbers))\n",
        "print(sum(numbers))\n"
      ],
      "metadata": {
        "colab": {
          "base_uri": "https://localhost:8080/",
          "height": 245
        },
        "id": "m0efjHNFYDMP",
        "outputId": "3dbcfecc-8f9a-4ee8-e2ba-b7574096a26d"
      },
      "execution_count": null,
      "outputs": [
        {
          "output_type": "stream",
          "name": "stdout",
          "text": [
            "1\n",
            "34\n"
          ]
        },
        {
          "output_type": "error",
          "ename": "NameError",
          "evalue": "name 'avg' is not defined",
          "traceback": [
            "\u001b[0;31m---------------------------------------------------------------------------\u001b[0m",
            "\u001b[0;31mNameError\u001b[0m                                 Traceback (most recent call last)",
            "\u001b[0;32m<ipython-input-3-41656aee7f43>\u001b[0m in \u001b[0;36m<cell line: 4>\u001b[0;34m()\u001b[0m\n\u001b[1;32m      2\u001b[0m \u001b[0mprint\u001b[0m\u001b[0;34m(\u001b[0m\u001b[0mmin\u001b[0m\u001b[0;34m(\u001b[0m\u001b[0mnumbers\u001b[0m\u001b[0;34m)\u001b[0m\u001b[0;34m)\u001b[0m\u001b[0;34m\u001b[0m\u001b[0;34m\u001b[0m\u001b[0m\n\u001b[1;32m      3\u001b[0m \u001b[0mprint\u001b[0m\u001b[0;34m(\u001b[0m\u001b[0mmax\u001b[0m\u001b[0;34m(\u001b[0m\u001b[0mnumbers\u001b[0m\u001b[0;34m)\u001b[0m\u001b[0;34m)\u001b[0m\u001b[0;34m\u001b[0m\u001b[0;34m\u001b[0m\u001b[0m\n\u001b[0;32m----> 4\u001b[0;31m \u001b[0mprint\u001b[0m\u001b[0;34m(\u001b[0m\u001b[0mavg\u001b[0m\u001b[0;34m(\u001b[0m\u001b[0mnumbers\u001b[0m\u001b[0;34m)\u001b[0m\u001b[0;34m)\u001b[0m\u001b[0;34m\u001b[0m\u001b[0;34m\u001b[0m\u001b[0m\n\u001b[0m",
            "\u001b[0;31mNameError\u001b[0m: name 'avg' is not defined"
          ]
        }
      ]
    },
    {
      "cell_type": "markdown",
      "source": [
        "# Difference Between List and Array in Python\n"
      ],
      "metadata": {
        "id": "SPyk1WZPFR8R"
      }
    },
    {
      "cell_type": "markdown",
      "source": [
        "[List vs Array](https://www.geeksforgeeks.org/difference-between-list-and-array-in-python/)"
      ],
      "metadata": {
        "id": "w52PodxEFUto"
      }
    },
    {
      "cell_type": "markdown",
      "source": [
        "# Tuples"
      ],
      "metadata": {
        "id": "3BQYEzV6ZfHe"
      }
    },
    {
      "cell_type": "markdown",
      "source": [
        "Tuples are faster than list and immutable."
      ],
      "metadata": {
        "id": "RNUUwyZBbaGz"
      }
    },
    {
      "cell_type": "code",
      "source": [
        "#methods that we can use in tuples\n",
        "\n",
        "days = (\"monday\",\"tuesday\",\"Wednesday\",\"Thursday\",\"Friday\",\"Saturday\",\"Sunday\")\n",
        "\n",
        "print(days.count(\"monday\"))\n",
        "print(days.index(\"Wednesday\"))\n",
        "print(len(days))\n",
        "\n",
        "print(days[1:7:2])"
      ],
      "metadata": {
        "colab": {
          "base_uri": "https://localhost:8080/"
        },
        "id": "ZQDdIhwZZj6U",
        "outputId": "6ebb81b6-fc28-4fe3-b1a2-6e01be7cae74"
      },
      "execution_count": null,
      "outputs": [
        {
          "output_type": "stream",
          "name": "stdout",
          "text": [
            "1\n",
            "2\n",
            "7\n",
            "('tuesday', 'Thursday', 'Saturday')\n"
          ]
        }
      ]
    },
    {
      "cell_type": "code",
      "source": [
        "one = (1) # is not tuples\n",
        "onee = (1,)  #this is tuples\n",
        "line = \"ase\",\"juk\",\"folck\"  #tuples"
      ],
      "metadata": {
        "id": "d6ZYXJHidX5l"
      },
      "execution_count": null,
      "outputs": []
    },
    {
      "cell_type": "markdown",
      "source": [
        "**Tuple unpacking**"
      ],
      "metadata": {
        "id": "wR7xni9GeAf8"
      }
    },
    {
      "cell_type": "code",
      "source": [
        "band = (\"Alex carry\", \"Mitchal starc\", \"travis head\")\n",
        "drummer , guitarist , flutter = band\n",
        "print(drummer)"
      ],
      "metadata": {
        "colab": {
          "base_uri": "https://localhost:8080/"
        },
        "id": "5dqy1dkAd_G2",
        "outputId": "f79fa8ad-8544-41ed-a8df-062feb49e99d"
      },
      "execution_count": null,
      "outputs": [
        {
          "output_type": "stream",
          "name": "stdout",
          "text": [
            "Alex carry\n"
          ]
        }
      ]
    },
    {
      "cell_type": "markdown",
      "source": [
        "**List in tuples**"
      ],
      "metadata": {
        "id": "45M_GPRKfg-h"
      }
    },
    {
      "cell_type": "code",
      "source": [
        "tuppp = (\"pochinki\",\"picado\",[\"ruins\",\"dino park\"])\n",
        "\n",
        "#we can actually change list inside the tuples\n",
        "tuppp[2].pop()\n",
        "print(tuppp)\n"
      ],
      "metadata": {
        "colab": {
          "base_uri": "https://localhost:8080/"
        },
        "id": "mp4-blHnf3uZ",
        "outputId": "f69d35f5-04d0-45da-e32f-5ff17e18e0e3"
      },
      "execution_count": null,
      "outputs": [
        {
          "output_type": "stream",
          "name": "stdout",
          "text": [
            "('pochinki', 'picado', ['ruins'])\n",
            "('pochinki', 'picado', ['ruins'], 'pochinki', 'picado', ['ruins'])\n"
          ]
        }
      ]
    },
    {
      "cell_type": "markdown",
      "source": [
        "***list to tuples <>***"
      ],
      "metadata": {
        "id": "00-652UNhuRR"
      }
    },
    {
      "cell_type": "code",
      "source": [
        "num = [1,2,3,4,5,6,7]\n",
        "\n",
        "num = tuple(num)\n",
        "\n",
        "print(num)\n",
        "\n",
        "num = list(num)\n",
        "\n",
        "print(num)"
      ],
      "metadata": {
        "colab": {
          "base_uri": "https://localhost:8080/"
        },
        "id": "dqLD3cXah1qh",
        "outputId": "768da0e5-15bd-4c77-ae54-a5448465cf49"
      },
      "execution_count": null,
      "outputs": [
        {
          "output_type": "stream",
          "name": "stdout",
          "text": [
            "(1, 2, 3, 4, 5, 6, 7)\n",
            "[1, 2, 3, 4, 5, 6, 7]\n"
          ]
        }
      ]
    },
    {
      "cell_type": "markdown",
      "source": [
        "# Set"
      ],
      "metadata": {
        "id": "WaswQXyFjAnE"
      }
    },
    {
      "cell_type": "markdown",
      "source": [
        "unordered(no indexing) collaction of unique items(no repetation)\n",
        "\n",
        "we can not store tuples, list or dictionary in Set"
      ],
      "metadata": {
        "id": "1LXg17VxjIFn"
      }
    },
    {
      "cell_type": "code",
      "source": [
        "s = {3,4,2,1,4}\n",
        "\n",
        "print(s)\n",
        "\n",
        "#s[1] will gives us error"
      ],
      "metadata": {
        "colab": {
          "base_uri": "https://localhost:8080/"
        },
        "id": "43C-aLlwjGlx",
        "outputId": "db045134-2d7c-480f-fc8b-8646e2b51fbc"
      },
      "execution_count": null,
      "outputs": [
        {
          "output_type": "stream",
          "name": "stdout",
          "text": [
            "{1, 2, 3, 4}\n"
          ]
        }
      ]
    },
    {
      "cell_type": "code",
      "source": [
        "#how to remove duplicate number using set\n",
        "\n",
        "l = [1,2,3,4,1,27,2,6,4,3,2,3,8,5,6,3,9,7,7,2,9]\n",
        "\n",
        "l =list(set(l))\n",
        "print(l)"
      ],
      "metadata": {
        "colab": {
          "base_uri": "https://localhost:8080/"
        },
        "id": "1ww1VVFpkKTd",
        "outputId": "7ae3b72c-6a64-4f7a-e548-bb0b7930c0b1"
      },
      "execution_count": null,
      "outputs": [
        {
          "output_type": "stream",
          "name": "stdout",
          "text": [
            "[1, 2, 3, 4, 5, 6, 7, 8, 9, 27]\n"
          ]
        }
      ]
    },
    {
      "cell_type": "markdown",
      "source": [
        "**Set manipulation**"
      ],
      "metadata": {
        "id": "4ZopAt45lWXb"
      }
    },
    {
      "cell_type": "code",
      "source": [
        "s = {1,2,3}\n",
        "s.add(5)\n",
        "s.add(1)\n",
        "\n",
        "print(s)\n",
        "\n",
        "s.remove(1)\n",
        "#s.remove(6) # this will gives us error\n",
        "print(s)\n",
        "\n",
        "s.discard(6)  #this will not give us error\n",
        "print(s)\n",
        "\n",
        "s.clear()\n",
        "print(s)\n",
        "\n",
        "s1 = {1,1.0,2,4,\"stringgg\"}\n",
        "print(s1)"
      ],
      "metadata": {
        "colab": {
          "base_uri": "https://localhost:8080/"
        },
        "id": "zMSDE2SXlbUe",
        "outputId": "555ee715-9ec5-4a89-fbcc-b40ec8931e83"
      },
      "execution_count": null,
      "outputs": [
        {
          "output_type": "stream",
          "name": "stdout",
          "text": [
            "{1, 2, 3, 5}\n",
            "{2, 3, 5}\n",
            "{2, 3, 5}\n",
            "set()\n",
            "{'stringgg', 2, 4, 1}\n"
          ]
        }
      ]
    },
    {
      "cell_type": "markdown",
      "source": [
        "We can use If-else and loops"
      ],
      "metadata": {
        "id": "vbM3o56knx4C"
      }
    },
    {
      "cell_type": "markdown",
      "source": [
        "**UNION and INTERSACTION**"
      ],
      "metadata": {
        "id": "ly0VCMw-nx_F"
      }
    },
    {
      "cell_type": "code",
      "source": [
        "s1 ={1,2,3,5,6}\n",
        "s2 ={2,3,6,7,9}\n",
        "\n",
        "#union\n",
        "print(s1 | s2)\n",
        "\n",
        "#intersaction\n",
        "print(s1 & s2)\n"
      ],
      "metadata": {
        "colab": {
          "base_uri": "https://localhost:8080/"
        },
        "id": "ANCUK6TSoDBM",
        "outputId": "8586a971-8a3e-4208-bbad-5ca564c2d47a"
      },
      "execution_count": null,
      "outputs": [
        {
          "output_type": "stream",
          "name": "stdout",
          "text": [
            "{1, 2, 3, 5, 6, 7, 9}\n",
            "{2, 3, 6}\n"
          ]
        }
      ]
    },
    {
      "cell_type": "markdown",
      "source": [
        "# Dictionary\n",
        "\n",
        "it comes with keys and associated value with it."
      ],
      "metadata": {
        "id": "8BJafPNqzn3z"
      }
    },
    {
      "cell_type": "code",
      "source": [
        "#create\n",
        "\n",
        "user = {\"name\" : \"Nikhil\", \"Age\" : 24 }\n",
        "#OR\n",
        "user2 = dict(Name = \"NIK\", Age = 23)\n",
        "print(user)\n",
        "print(user2)\n",
        "\n",
        "print(user[\"name\"])"
      ],
      "metadata": {
        "colab": {
          "base_uri": "https://localhost:8080/"
        },
        "id": "A1v-6l0ezzfc",
        "outputId": "2699a0ba-e718-4075-e23d-22ab2f76981c"
      },
      "execution_count": null,
      "outputs": [
        {
          "output_type": "stream",
          "name": "stdout",
          "text": [
            "{'name': 'Nikhil', 'Age': 24}\n",
            "{'Name': 'NIK', 'Age': 23}\n",
            "Nikhil\n"
          ]
        }
      ]
    },
    {
      "cell_type": "code",
      "source": [
        "user_info = {\"name\" : \"Nik\"}\n",
        "user_info[\"name\"] = \"Nikhil\"\n",
        "user_info[\"Movies\"] = [\"FSG\",\"ERF\"]\n",
        "\n",
        "print(user_info)"
      ],
      "metadata": {
        "colab": {
          "base_uri": "https://localhost:8080/"
        },
        "id": "6uERArTZ2kSX",
        "outputId": "656b24e1-aa9e-4f99-c376-a497aad66b34"
      },
      "execution_count": null,
      "outputs": [
        {
          "output_type": "stream",
          "name": "stdout",
          "text": [
            "{'name': 'Nikhil', 'Movies': ['FSG', 'ERF']}\n"
          ]
        }
      ]
    },
    {
      "cell_type": "markdown",
      "source": [
        "If- Else"
      ],
      "metadata": {
        "id": "i6hc9cFR3cEb"
      }
    },
    {
      "cell_type": "code",
      "source": [
        "#to check key in dictionary\n",
        "if \"name\" in user_info:\n",
        "  print(\"Present\")\n",
        "else:\n",
        "  print(\"Not present\")\n",
        "\n",
        "#to check value in dictionary\n",
        "\n",
        "if \"Nikil\" in user_info.values():\n",
        "  print(\"Present\")\n",
        "else:\n",
        "  print(\"Not here\")"
      ],
      "metadata": {
        "colab": {
          "base_uri": "https://localhost:8080/"
        },
        "id": "j8SqT8FN3gO3",
        "outputId": "659ac6bf-97c5-46e2-b0c9-c4b20acf1f73"
      },
      "execution_count": null,
      "outputs": [
        {
          "output_type": "stream",
          "name": "stdout",
          "text": [
            "Present\n",
            "Not here\n"
          ]
        }
      ]
    },
    {
      "cell_type": "code",
      "source": [
        "#All keys in dictionary\n",
        "for i in user_info:\n",
        "  print(i)\n",
        "#All values in dictionary\n",
        "for j in user_info.values():\n",
        "  print(j)"
      ],
      "metadata": {
        "colab": {
          "base_uri": "https://localhost:8080/"
        },
        "id": "qAeNVayJEsfZ",
        "outputId": "3f9f2059-7e29-4557-da0b-c9cece1a6568"
      },
      "execution_count": null,
      "outputs": [
        {
          "output_type": "stream",
          "name": "stdout",
          "text": [
            "name\n",
            "Movies\n",
            "Nikhil\n",
            "['FSG', 'ERF']\n"
          ]
        }
      ]
    },
    {
      "cell_type": "markdown",
      "source": [
        "Data manipulations in dictionary"
      ],
      "metadata": {
        "id": "7Q7b8TEgF0Xd"
      }
    },
    {
      "cell_type": "code",
      "source": [
        "user_info = {'name': 'Nikhil', 'Movies': ['FSG', 'ERF']}\n",
        "user_info[\"Age\"] = 30\n",
        "\n",
        "print(user_info)\n",
        "\n",
        "user_info.pop(\"Movies\")\n",
        "print(user_info)\n",
        "\n",
        "#if we randomaly remove any item is popitem():\n",
        "\n",
        "\n",
        "more_info = dict(IELTS = 7 , GPA = 3.93)\n",
        "\n",
        "user_info.update(more_info)\n",
        "\n",
        "print(user_info)"
      ],
      "metadata": {
        "colab": {
          "base_uri": "https://localhost:8080/"
        },
        "id": "AH20qKmzF5US",
        "outputId": "9a3565c2-da65-4142-d707-4728e6f11191"
      },
      "execution_count": null,
      "outputs": [
        {
          "output_type": "stream",
          "name": "stdout",
          "text": [
            "{'name': 'Nikhil', 'Movies': ['FSG', 'ERF'], 'Age': 30}\n",
            "{'name': 'Nikhil', 'Age': 30}\n",
            "{'name': 'Nikhil', 'Age': 30, 'IELTS': 7, 'GPA': 3.93}\n"
          ]
        }
      ]
    },
    {
      "cell_type": "markdown",
      "source": [
        "To be continued from 119/120"
      ],
      "metadata": {
        "id": "6ri4F99tfqYE"
      }
    },
    {
      "cell_type": "markdown",
      "source": [
        "# Numpy in Python\n",
        "\n",
        "Faster then list bcz its binding with c programming\n",
        "1-d array : Vector\n",
        "2-d array : matrix\n",
        "n-d array : tensor"
      ],
      "metadata": {
        "id": "29sTfjbff0iE"
      }
    },
    {
      "cell_type": "code",
      "source": [
        "import numpy as np\n",
        "\n",
        "numbers = [1,2,3,4.0]\n",
        "\n",
        "numbers = np.array(numbers)\n",
        "print(numbers)\n",
        "\n",
        "numbers.ndim #dimension\n",
        "numbers.shape #(row, column)\n",
        "numbers.dtype #datatype of element in array\n",
        "\n",
        "numbers.size #length or total elements\n",
        "\n"
      ],
      "metadata": {
        "colab": {
          "base_uri": "https://localhost:8080/"
        },
        "id": "m69zfP6sf6yy",
        "outputId": "197fa898-f3af-4ab2-f969-86dba119d293"
      },
      "execution_count": null,
      "outputs": [
        {
          "output_type": "stream",
          "name": "stdout",
          "text": [
            "[1. 2. 3. 4.]\n"
          ]
        },
        {
          "output_type": "execute_result",
          "data": {
            "text/plain": [
              "4"
            ]
          },
          "metadata": {},
          "execution_count": 3
        }
      ]
    },
    {
      "cell_type": "code",
      "source": [
        "arr = np.zeros((2,4))\n",
        "arr"
      ],
      "metadata": {
        "colab": {
          "base_uri": "https://localhost:8080/"
        },
        "id": "uOIMHlt1lOhe",
        "outputId": "4c151cc2-9af4-449d-f16c-3432664ce978"
      },
      "execution_count": null,
      "outputs": [
        {
          "output_type": "execute_result",
          "data": {
            "text/plain": [
              "array([[0., 0., 0., 0.],\n",
              "       [0., 0., 0., 0.]])"
            ]
          },
          "metadata": {},
          "execution_count": 11
        }
      ]
    },
    {
      "cell_type": "code",
      "source": [
        "arr = np.ones((2,3))\n",
        "arr"
      ],
      "metadata": {
        "colab": {
          "base_uri": "https://localhost:8080/"
        },
        "id": "DDFpLmrMlSkf",
        "outputId": "d8e4c589-7e4e-435b-ea87-66cdd2286bb0"
      },
      "execution_count": null,
      "outputs": [
        {
          "output_type": "execute_result",
          "data": {
            "text/plain": [
              "array([[1., 1., 1.],\n",
              "       [1., 1., 1.]])"
            ]
          },
          "metadata": {},
          "execution_count": 12
        }
      ]
    },
    {
      "cell_type": "code",
      "source": [
        "arr = np.eye(5)\n",
        "arr"
      ],
      "metadata": {
        "colab": {
          "base_uri": "https://localhost:8080/"
        },
        "id": "_MmmktsKl9xP",
        "outputId": "ab163a5b-5702-4dd5-bc29-7a0e36dc4405"
      },
      "execution_count": null,
      "outputs": [
        {
          "output_type": "execute_result",
          "data": {
            "text/plain": [
              "array([[1., 0., 0., 0., 0.],\n",
              "       [0., 1., 0., 0., 0.],\n",
              "       [0., 0., 1., 0., 0.],\n",
              "       [0., 0., 0., 1., 0.],\n",
              "       [0., 0., 0., 0., 1.]])"
            ]
          },
          "metadata": {},
          "execution_count": 14
        }
      ]
    },
    {
      "cell_type": "code",
      "source": [
        "arr = np.diag([5,-3,2])\n",
        "arr\n",
        "\n",
        "#if we are looking too get just diagonal element from given matrix then\n",
        "diangonal = np.diag(arr)\n",
        "diangonal"
      ],
      "metadata": {
        "colab": {
          "base_uri": "https://localhost:8080/"
        },
        "id": "GJykcOI5l90L",
        "outputId": "91fddbfc-1da9-4f84-a1ca-60ca7603da76"
      },
      "execution_count": null,
      "outputs": [
        {
          "output_type": "execute_result",
          "data": {
            "text/plain": [
              "array([ 5, -3,  2])"
            ]
          },
          "metadata": {},
          "execution_count": 19
        }
      ]
    },
    {
      "cell_type": "code",
      "source": [
        "# number range  generator.\n",
        "\n",
        "arr = np.arange(1,5,0.5) #(Lower,high, difference)\n",
        "arr"
      ],
      "metadata": {
        "colab": {
          "base_uri": "https://localhost:8080/"
        },
        "id": "32wQgqmlqaii",
        "outputId": "f92c0522-d2c7-4732-f28b-23cbe5a030e2"
      },
      "execution_count": null,
      "outputs": [
        {
          "output_type": "execute_result",
          "data": {
            "text/plain": [
              "array([1. , 1.5, 2. , 2.5, 3. , 3.5, 4. , 4.5])"
            ]
          },
          "metadata": {},
          "execution_count": 44
        }
      ]
    },
    {
      "cell_type": "code",
      "source": [
        "#random integer number generator.\n",
        "\n",
        "arr = np.random.randint(1,12,4) #(Lower,high, n)\n",
        "arr"
      ],
      "metadata": {
        "colab": {
          "base_uri": "https://localhost:8080/"
        },
        "id": "w4VU9Hmal934",
        "outputId": "a777216d-4a8b-4d0e-fa7f-229ec33bb4f2"
      },
      "execution_count": null,
      "outputs": [
        {
          "output_type": "execute_result",
          "data": {
            "text/plain": [
              "array([ 2, 11,  3,  3])"
            ]
          },
          "metadata": {},
          "execution_count": 29
        }
      ]
    },
    {
      "cell_type": "code",
      "source": [
        "arr = np.random.rand(5,2) #(float value between 0 to 1, (nrow,ncol)\n",
        "arr"
      ],
      "metadata": {
        "colab": {
          "base_uri": "https://localhost:8080/"
        },
        "id": "J7YzGEHImmoH",
        "outputId": "b1394abf-81cf-41b7-f415-20f1d2f0ccf1"
      },
      "execution_count": null,
      "outputs": [
        {
          "output_type": "execute_result",
          "data": {
            "text/plain": [
              "array([[0.24527926, 0.52985384],\n",
              "       [0.67451062, 0.39903184],\n",
              "       [0.7837913 , 0.27457555],\n",
              "       [0.85678512, 0.79789482],\n",
              "       [0.59464555, 0.6866588 ]])"
            ]
          },
          "metadata": {},
          "execution_count": 34
        }
      ]
    },
    {
      "cell_type": "code",
      "source": [
        "arr = np.random.randn(5) #Normal distribution,(nrow, ncol)\n",
        "arr"
      ],
      "metadata": {
        "colab": {
          "base_uri": "https://localhost:8080/"
        },
        "id": "bIiiJmdkmmre",
        "outputId": "a6f2553e-d7c4-487b-a3e4-499e328339e3"
      },
      "execution_count": null,
      "outputs": [
        {
          "output_type": "execute_result",
          "data": {
            "text/plain": [
              "array([-0.8736469 ,  0.8982189 , -1.3154773 ,  0.74683068,  0.6373491 ])"
            ]
          },
          "metadata": {},
          "execution_count": 33
        }
      ]
    },
    {
      "cell_type": "markdown",
      "source": [
        "**array reshapping**"
      ],
      "metadata": {
        "id": "9mYTLdS7pC8S"
      }
    },
    {
      "cell_type": "code",
      "source": [
        "arr1 = np.random.randint(1,10,32)\n",
        "arr1\n",
        "arr2 = arr1.reshape(4,2,4)\n",
        "arr2\n",
        "\n",
        "arr3 = arr2.reshape(4,8)\n",
        "arr3"
      ],
      "metadata": {
        "colab": {
          "base_uri": "https://localhost:8080/"
        },
        "id": "6RdNDdakpDUe",
        "outputId": "2ccd2f8c-8765-4a03-9fd6-85cbcfd5c2d3"
      },
      "execution_count": null,
      "outputs": [
        {
          "output_type": "execute_result",
          "data": {
            "text/plain": [
              "array([[2, 1, 7, 2, 9, 7, 7, 1],\n",
              "       [6, 9, 9, 7, 6, 7, 9, 7],\n",
              "       [3, 1, 4, 9, 2, 4, 7, 9],\n",
              "       [9, 9, 3, 5, 2, 6, 2, 9]])"
            ]
          },
          "metadata": {},
          "execution_count": 39
        }
      ]
    },
    {
      "cell_type": "code",
      "source": [
        "#Let suppose we dont know ncol or nrow instead we write -1 it will count accordingly\n",
        "arr5 = arr1.reshape(-1,4,4) #-1 counts as 2 => 4*4*2 =32\n",
        "arr5"
      ],
      "metadata": {
        "colab": {
          "base_uri": "https://localhost:8080/"
        },
        "id": "ikN84XAkq2Xr",
        "outputId": "3eda8151-55c8-481e-951e-1bee5e4510bf"
      },
      "execution_count": null,
      "outputs": [
        {
          "output_type": "execute_result",
          "data": {
            "text/plain": [
              "array([[[2, 1, 7, 2],\n",
              "        [9, 7, 7, 1],\n",
              "        [6, 9, 9, 7],\n",
              "        [6, 7, 9, 7]],\n",
              "\n",
              "       [[3, 1, 4, 9],\n",
              "        [2, 4, 7, 9],\n",
              "        [9, 9, 3, 5],\n",
              "        [2, 6, 2, 9]]])"
            ]
          },
          "metadata": {},
          "execution_count": 50
        }
      ]
    },
    {
      "cell_type": "markdown",
      "source": [
        "**Set_seed**"
      ],
      "metadata": {
        "id": "ERhvoo_Zshw9"
      }
    },
    {
      "cell_type": "code",
      "source": [
        "np.random.seed(42) #Tell the computer to generate the same random numbers every time.\n",
        "\n",
        "random_numbers = np.random.rand(5)\n",
        "random_numbers"
      ],
      "metadata": {
        "colab": {
          "base_uri": "https://localhost:8080/"
        },
        "id": "frOG6jvvsfvA",
        "outputId": "a2a0f50b-3c25-4374-ed07-9227ffe554db"
      },
      "execution_count": null,
      "outputs": [
        {
          "output_type": "execute_result",
          "data": {
            "text/plain": [
              "array([0.37454012, 0.95071431, 0.73199394, 0.59865848, 0.15601864])"
            ]
          },
          "metadata": {},
          "execution_count": 55
        }
      ]
    },
    {
      "cell_type": "markdown",
      "source": [
        "## Indexing and slicing"
      ],
      "metadata": {
        "id": "3ywI2wEwtiMG"
      }
    },
    {
      "cell_type": "code",
      "source": [
        "arr_num = np.array([1,2,3,4,5,6,1,23,4,5])\n",
        "arr_num[5]\n",
        "#same indexing as a List\n",
        "\n",
        "#e.g -1 for last element\n",
        "\n",
        "arr_num[5:-1:2]  #[lower: upper : difference]"
      ],
      "metadata": {
        "colab": {
          "base_uri": "https://localhost:8080/"
        },
        "id": "L-GVJss7sfxp",
        "outputId": "dbd0918d-0ab0-446b-f8c7-d1cf58d60965"
      },
      "execution_count": null,
      "outputs": [
        {
          "output_type": "execute_result",
          "data": {
            "text/plain": [
              "array([ 6, 23])"
            ]
          },
          "metadata": {},
          "execution_count": 63
        }
      ]
    },
    {
      "cell_type": "code",
      "source": [
        "#How about 2d array\n",
        "\n",
        "matrix = np.array([[1,2,3],[4,5,6],[7,8,9]])\n",
        "matrix\n",
        "\n",
        "#Lets find postion of 6\n",
        "matrix[1][2]\n",
        "\n",
        "matrix[2][0:2]\n",
        "\n",
        "matrix[1:]"
      ],
      "metadata": {
        "colab": {
          "base_uri": "https://localhost:8080/"
        },
        "id": "tST-vylnsf04",
        "outputId": "430c960c-361c-4eca-ade4-937f893eb3d7"
      },
      "execution_count": null,
      "outputs": [
        {
          "output_type": "execute_result",
          "data": {
            "text/plain": [
              "array([[4, 5, 6],\n",
              "       [7, 8, 9]])"
            ]
          },
          "metadata": {},
          "execution_count": 4
        }
      ]
    },
    {
      "cell_type": "code",
      "source": [
        "matrix[1:,1:] #mostaly use this for slicing"
      ],
      "metadata": {
        "id": "aFdRlUItsf4Z",
        "colab": {
          "base_uri": "https://localhost:8080/"
        },
        "outputId": "4cea07c7-ef07-4247-9702-78670a36fc02"
      },
      "execution_count": null,
      "outputs": [
        {
          "output_type": "execute_result",
          "data": {
            "text/plain": [
              "array([[5, 6],\n",
              "       [8, 9]])"
            ]
          },
          "metadata": {},
          "execution_count": 5
        }
      ]
    },
    {
      "cell_type": "markdown",
      "source": [
        "**View vs Copy**"
      ],
      "metadata": {
        "id": "VZZCByjT2ype"
      }
    },
    {
      "cell_type": "code",
      "source": [
        "arr = np.array([1,4,2,6,3,4,9,7])\n",
        "samp_arr = arr[1:5]\n",
        "\n",
        "print(samp_arr)\n",
        "\n",
        "samp_arr[:] = 0 #this will change the original array as well.\n",
        "\n",
        "print(arr)\n",
        "\n",
        "samp_arr = arr[1:5].copy() # this will locate in different memory.\n",
        "\n",
        "samp_arr[:] = 2\n",
        "\n",
        "print(arr)\n"
      ],
      "metadata": {
        "id": "RQ_D3U2Tsf7_",
        "colab": {
          "base_uri": "https://localhost:8080/"
        },
        "outputId": "c9585e0b-8c9d-4460-9cd3-9ee0731b110f"
      },
      "execution_count": null,
      "outputs": [
        {
          "output_type": "stream",
          "name": "stdout",
          "text": [
            "[4 2 6 3]\n",
            "[1 0 0 0 0 4 9 7]\n",
            "[1 0 0 0 0 4 9 7]\n"
          ]
        }
      ]
    },
    {
      "cell_type": "markdown",
      "source": [
        "Conditional Selection(Filter)"
      ],
      "metadata": {
        "id": "wMUmzwVg4gQ1"
      }
    },
    {
      "cell_type": "code",
      "source": [
        "num1 = np.arange(1,11)\n",
        "\n",
        "print(num1[num1 > 5])\n",
        "print(num1[num1%2 == 1])"
      ],
      "metadata": {
        "id": "7OBe1e8Ysf-g",
        "colab": {
          "base_uri": "https://localhost:8080/"
        },
        "outputId": "05c57612-eb69-444e-a0a2-046fade2c0c6"
      },
      "execution_count": null,
      "outputs": [
        {
          "output_type": "stream",
          "name": "stdout",
          "text": [
            "[ 6  7  8  9 10]\n",
            "[1 3 5 7 9]\n"
          ]
        }
      ]
    },
    {
      "cell_type": "markdown",
      "source": [
        "**Arithmetic Operations**"
      ],
      "metadata": {
        "id": "esu-YUQk5PUc"
      }
    },
    {
      "cell_type": "code",
      "source": [
        "print(num1 + 2)\n",
        "print(num1 ** 2)\n",
        "num2 = np.arange(11,21)\n",
        "print(num1+num2) #shape and size should be same\n",
        "print(num1*num2)\n"
      ],
      "metadata": {
        "colab": {
          "base_uri": "https://localhost:8080/"
        },
        "id": "Ecy-IIVd5ONC",
        "outputId": "54360ec2-aa50-41a4-9872-c243964bec0d"
      },
      "execution_count": null,
      "outputs": [
        {
          "output_type": "stream",
          "name": "stdout",
          "text": [
            "[ 3  4  5  6  7  8  9 10 11 12]\n",
            "[  1   4   9  16  25  36  49  64  81 100]\n",
            "[12 14 16 18 20 22 24 26 28 30]\n",
            "[ 11  24  39  56  75  96 119 144 171 200]\n"
          ]
        },
        {
          "output_type": "execute_result",
          "data": {
            "text/plain": [
              "array([ 1.55740772, -2.18503986, -0.14254654,  1.15782128, -3.38051501,\n",
              "       -0.29100619,  0.87144798, -6.79971146, -0.45231566,  0.64836083])"
            ]
          },
          "metadata": {},
          "execution_count": 50
        }
      ]
    },
    {
      "cell_type": "code",
      "source": [
        "#dot product\n",
        "\n",
        "a = np.array([[1,2],[2,4]])\n",
        "b = a = np.array([[1,3],[2,8]])\n",
        "a.dot(b)"
      ],
      "metadata": {
        "id": "dLEndQU3sgB5",
        "colab": {
          "base_uri": "https://localhost:8080/"
        },
        "outputId": "98565ba7-48cd-4c0d-f1a7-db7b98dd7f29"
      },
      "execution_count": null,
      "outputs": [
        {
          "output_type": "stream",
          "name": "stdout",
          "text": [
            "[[1 3]\n",
            " [2 8]]\n"
          ]
        },
        {
          "output_type": "execute_result",
          "data": {
            "text/plain": [
              "array([[ 7, 27],\n",
              "       [18, 70]])"
            ]
          },
          "metadata": {},
          "execution_count": 47
        }
      ]
    },
    {
      "cell_type": "code",
      "source": [
        "np.sum(num1)\n",
        "np.median(num1)\n",
        "np.mean(num1)\n",
        "np.max(num1)\n",
        "np.argmax(num1)  #giving us position of max element in array\n",
        "np.std(num1) #standard deviation\n",
        "\n",
        "np.sqrt(num1)\n",
        "np.exp(num1)\n",
        "\n",
        "np.sin(num1)\n",
        "np.tan(num1)\n",
        "\n",
        "np.linspace(1,10, 20) # (lower,upper, how many equldistance number we want )"
      ],
      "metadata": {
        "colab": {
          "base_uri": "https://localhost:8080/"
        },
        "id": "rWj5AYvW-XBM",
        "outputId": "e7f03713-c12f-4406-e927-169b9350b856"
      },
      "execution_count": null,
      "outputs": [
        {
          "output_type": "execute_result",
          "data": {
            "text/plain": [
              "array([ 1.        ,  1.47368421,  1.94736842,  2.42105263,  2.89473684,\n",
              "        3.36842105,  3.84210526,  4.31578947,  4.78947368,  5.26315789,\n",
              "        5.73684211,  6.21052632,  6.68421053,  7.15789474,  7.63157895,\n",
              "        8.10526316,  8.57894737,  9.05263158,  9.52631579, 10.        ])"
            ]
          },
          "metadata": {},
          "execution_count": 51
        }
      ]
    },
    {
      "cell_type": "markdown",
      "source": [
        "**AXIS**\n",
        "\n",
        "NumPy's axis specifies direction (rows or columns) for operations on arrays"
      ],
      "metadata": {
        "id": "uW_1h4emAeHR"
      }
    },
    {
      "cell_type": "code",
      "source": [
        "arr = np.array([[5, 2, 6],\n",
        "                [9, 8, 4],\n",
        "                [7,2,3]])\n",
        "\n",
        "# max along axis 0 (columns)\n",
        "result = np.max(arr, axis=0)\n",
        "print(result)\n",
        "# sum along axis 1 (rows)\n",
        "result = np.sum(arr, axis=1)\n",
        "print(result)\n",
        "# product along axis 1 (rows)\n",
        "result = np.prod(arr, axis=1)\n",
        "print(result)\n",
        "\n",
        "#cumulative Sum\n",
        "print(np.cumsum(arr))\n",
        "np.cumsum(arr, axis = 0) #column wise and just column"
      ],
      "metadata": {
        "colab": {
          "base_uri": "https://localhost:8080/"
        },
        "id": "VoEI46AL-XEG",
        "outputId": "39484a27-0898-470c-ac01-81805e0bbaae"
      },
      "execution_count": null,
      "outputs": [
        {
          "output_type": "stream",
          "name": "stdout",
          "text": [
            "[9 8 6]\n",
            "[13 21 12]\n",
            "[ 60 288  42]\n",
            "[ 5  7 13 22 30 34 41 43 46]\n"
          ]
        },
        {
          "output_type": "execute_result",
          "data": {
            "text/plain": [
              "array([[ 5,  2,  6],\n",
              "       [14, 10, 10],\n",
              "       [21, 12, 13]])"
            ]
          },
          "metadata": {},
          "execution_count": 62
        }
      ]
    },
    {
      "cell_type": "markdown",
      "source": [
        "### Axis In a 3D NumPy array:\n",
        "\n",
        "axis=0:\n",
        "Operations work along the first axis (slices across multiple matrices).\n",
        "\n",
        "axis=1:\n",
        "Operations work along the second axis (operate within each matrix).\n",
        "\n",
        "axis=2:\n",
        "Operations work along the third axis (operate within each row)."
      ],
      "metadata": {
        "id": "6dTJ_9EBCvFI"
      }
    },
    {
      "cell_type": "code",
      "source": [
        "\n",
        "arr_3d = np.array([[[1, 2, 3],\n",
        "                    [4, 5, 6]],\n",
        "\n",
        "                   [[7, 8, 9],\n",
        "                    [10, 11, 12]],\n",
        "\n",
        "                   [[13, 14, 15],\n",
        "                    [16, 17, 18]]])\n",
        "print(\"Original 3D Array:\")\n",
        "print(arr_3d)\n",
        "# Sum along axis 0 (slices across matrices) each  element sum in 2D erray like 6+12+18\n",
        "sum_axis_0 = np.sum(arr_3d, axis=0)\n",
        "\n",
        "# Sum along axis 1 (operate within each matrix) #each 2D matix column\n",
        "sum_axis_1 = np.sum(arr_3d, axis=1)\n",
        "\n",
        "# Sum along axis 2 (operate within each row)\n",
        "sum_axis_2 = np.sum(arr_3d, axis=2)\n",
        "\n",
        "print(\"\\nSum along Axis 0:\")\n",
        "print(sum_axis_0)\n",
        "\n",
        "print(\"\\nSum along Axis 1:\")\n",
        "print(sum_axis_1)\n",
        "\n",
        "print(\"\\nSum along Axis 2:\")\n",
        "print(sum_axis_2)"
      ],
      "metadata": {
        "colab": {
          "base_uri": "https://localhost:8080/"
        },
        "id": "Pyu_LnBz-XGY",
        "outputId": "cd2c2728-8ef8-46ba-8b0c-4af52bd4838f"
      },
      "execution_count": null,
      "outputs": [
        {
          "output_type": "stream",
          "name": "stdout",
          "text": [
            "Original 3D Array:\n",
            "[[[ 1  2  3]\n",
            "  [ 4  5  6]]\n",
            "\n",
            " [[ 7  8  9]\n",
            "  [10 11 12]]\n",
            "\n",
            " [[13 14 15]\n",
            "  [16 17 18]]]\n",
            "\n",
            "Sum along Axis 0:\n",
            "[[21 24 27]\n",
            " [30 33 36]]\n",
            "\n",
            "Sum along Axis 1:\n",
            "[[ 5  7  9]\n",
            " [17 19 21]\n",
            " [29 31 33]]\n",
            "\n",
            "Sum along Axis 2:\n",
            "[[ 6 15]\n",
            " [24 33]\n",
            " [42 51]]\n"
          ]
        }
      ]
    },
    {
      "cell_type": "markdown",
      "source": [
        "**Shuffle & Unique**"
      ],
      "metadata": {
        "id": "LcTpWbdr8nqX"
      }
    },
    {
      "cell_type": "code",
      "source": [
        "import numpy as np\n",
        "np.random.seed(3)\n",
        "\n",
        "arr = np.random.randint(1, 11, 15)\n",
        "print(\"Original array:\", arr)\n",
        "\n",
        "np.random.shuffle(arr)\n",
        "print(\"Shuffled array:\", arr)\n",
        "\n",
        "print(np.unique(arr).size)\n",
        "np.unique(arr, return_counts=True, return_index =True)"
      ],
      "metadata": {
        "id": "CJzVCYl--XI5",
        "colab": {
          "base_uri": "https://localhost:8080/"
        },
        "outputId": "e3a62ef4-ca13-4b91-cf9b-cc098b372fab"
      },
      "execution_count": null,
      "outputs": [
        {
          "output_type": "stream",
          "name": "stdout",
          "text": [
            "Original array: [ 9 10  4  9  9  1  6  4 10 10  6  8  7  1  5]\n",
            "Shuffled array: [ 9  1  8  9 10  9  5  4  6 10  6 10  4  1  7]\n",
            "8\n"
          ]
        },
        {
          "output_type": "execute_result",
          "data": {
            "text/plain": [
              "(array([ 1,  4,  5,  6,  7,  8,  9, 10]),\n",
              " array([ 1,  7,  6,  8, 14,  2,  0,  4]),\n",
              " array([2, 2, 1, 2, 1, 1, 3, 3]))"
            ]
          },
          "metadata": {},
          "execution_count": 14
        }
      ]
    },
    {
      "cell_type": "markdown",
      "source": [
        "**Horizontal anad Vertical stacking**"
      ],
      "metadata": {
        "id": "PXbCrw4I_Owa"
      }
    },
    {
      "cell_type": "code",
      "source": [
        "np.random.seed(33)\n",
        "matrix1 = np.random.randint(1, 11, 9).reshape(3,3)\n",
        "matrix2 = np.random.randint(5, 16, 9).reshape(3,3)\n",
        "\n",
        "#Horizontal stacking\n",
        "np.hstack((matrix1,matrix2))\n",
        "\n",
        "#Vertical stacking\n",
        "np.vstack((matrix1,matrix2))\n",
        "\n",
        "#1-D Array\n",
        "array1 = np.random.randint(2, 11, 5)\n",
        "array2 = np.random.randint(21, 31, 5)\n",
        "\n",
        "np.hstack((array1,array2))\n",
        "np.vstack((array1,array2))\n"
      ],
      "metadata": {
        "id": "9pdCIf6G-XL1",
        "colab": {
          "base_uri": "https://localhost:8080/"
        },
        "outputId": "40ea8651-8237-483f-b1e0-9ae6603ad9b3"
      },
      "execution_count": null,
      "outputs": [
        {
          "output_type": "execute_result",
          "data": {
            "text/plain": [
              "array([[ 8,  8,  2,  6, 10],\n",
              "       [29, 24, 28, 30, 24]])"
            ]
          },
          "metadata": {},
          "execution_count": 22
        }
      ]
    },
    {
      "cell_type": "markdown",
      "source": [
        "# Let start with pandas in Python 3.0"
      ],
      "metadata": {
        "id": "mNozNHeaw0Fr"
      }
    }
  ]
}