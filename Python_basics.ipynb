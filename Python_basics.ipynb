{
  "cells": [
    {
      "cell_type": "markdown",
      "metadata": {
        "id": "E0WU_hNwY2EY"
      },
      "source": [
        "# if-Else"
      ]
    },
    {
      "cell_type": "code",
      "execution_count": null,
      "metadata": {
        "id": "eTXUypN0Y95X"
      },
      "outputs": [],
      "source": [
        "score = float(input(\"Enter your score: \"))\n",
        "\n",
        "if score >= 90:\n",
        "    print(\"Grade: A\")\n",
        "elif score >= 80:\n",
        "    print(\"Grade: B\")\n",
        "elif score >= 70:\n",
        "    print(\"Grade: C\")\n",
        "elif score >= 60:\n",
        "    print(\"Grade: D\")\n",
        "else:\n",
        "    print(\"Grade: F\")\n"
      ]
    },
    {
      "cell_type": "markdown",
      "metadata": {
        "id": "NQeoshA0ZaB8"
      },
      "source": [
        "# Loops"
      ]
    },
    {
      "cell_type": "markdown",
      "metadata": {
        "id": "ptyt_-UaZzAp"
      },
      "source": [
        "For"
      ]
    },
    {
      "cell_type": "code",
      "execution_count": null,
      "metadata": {
        "id": "_gmgGCyVY9zc"
      },
      "outputs": [],
      "source": [
        "for number in range(1, 11):\n",
        "    if number % 5 == 0:\n",
        "        print(f\"{number} is a multiple of 5\")\n",
        "    elif number % 2 == 0:\n",
        "        print(f\"{number} is even\")\n",
        "    else:\n",
        "        print(f\"{number} is odd\")\n"
      ]
    },
    {
      "cell_type": "markdown",
      "metadata": {
        "id": "86hI-551Z1B3"
      },
      "source": [
        "While"
      ]
    },
    {
      "cell_type": "code",
      "execution_count": null,
      "metadata": {
        "id": "-HWIbqQcY9wg"
      },
      "outputs": [],
      "source": [
        "counter = 1\n",
        "\n",
        "while counter <= 20:\n",
        "    if counter % 5 == 0:\n",
        "        print(f\"{counter} is a multiple of 5\")\n",
        "    elif counter % 2 == 0:\n",
        "        print(f\"{counter} is even\")\n",
        "    else:\n",
        "        print(f\"{counter} is odd\")\n",
        "\n",
        "    counter += 3  # Increment the counter by 3"
      ]
    },
    {
      "cell_type": "markdown",
      "metadata": {
        "id": "7uMA8FPbbpQo"
      },
      "source": [
        "# loop control statement\n",
        "\n",
        "1.   break: Used to exit a loop prematurely based on a condition.\n",
        "2.   continue: Used to skip the current iteration of a loop based on a condition.\n",
        "3.   else (with loops): Executed after a loop completes all its iterations without encountering a break statement.\n",
        "\n",
        "\n",
        "\n",
        "\n",
        "\n",
        "\n",
        "\n"
      ]
    },
    {
      "cell_type": "code",
      "execution_count": null,
      "metadata": {
        "colab": {
          "base_uri": "https://localhost:8080/"
        },
        "id": "9FcDJ0drY9YE",
        "outputId": "dd031716-c40a-40c5-9822-76720c2923e2"
      },
      "outputs": [],
      "source": [
        "\n",
        "numbers = [1, 2, 3, 4, 5, 6, 7, 8, 9, 10]\n",
        "\n",
        "for i in numbers:\n",
        "    # Check if the number is even\n",
        "    if i % 2 == 0:\n",
        "        print(f\"Skipping even number: {i}\")\n",
        "        continue  # Skip to the next iteration if the number is even\n",
        "\n",
        "    # Check if the number is greater than 6\n",
        "    if i > 6:\n",
        "        print(f\"Exiting loop at number: {i}\")\n",
        "        break  # Exit the loop if the number is greater than 5\n",
        "\n",
        "    print(f\"Processing number: {i}\")\n",
        "\n",
        "else:\n",
        "    # This block executes if the loop completes all iterations without encountering a break statement\n",
        "    print(\"Loop completed successfully without encountering a break statement\")\n"
      ]
    },
    {
      "cell_type": "markdown",
      "metadata": {
        "id": "1ss-lZRsd_QP"
      },
      "source": [
        "# Function"
      ]
    },
    {
      "cell_type": "code",
      "execution_count": null,
      "metadata": {
        "colab": {
          "base_uri": "https://localhost:8080/"
        },
        "id": "_Pxq3MQaeC0j",
        "outputId": "423e35cb-0a74-4c6c-af01-feb89982d314"
      },
      "outputs": [],
      "source": [
        "def greet(name):\n",
        "    print(\"Hello,\", name, \"!\")\n",
        "\n",
        "greet(\"Nik\")\n"
      ]
    },
    {
      "cell_type": "code",
      "execution_count": null,
      "metadata": {
        "colab": {
          "base_uri": "https://localhost:8080/"
        },
        "id": "-GEnWeGteDgg",
        "outputId": "18f1b26d-9ed4-47cb-d6bf-fb2b7f382e52"
      },
      "outputs": [],
      "source": [
        "def add(a, b):\n",
        "    return a + b\n",
        "\n",
        "result = add(3, 4) # to store output value of functon\n",
        "print(result). # to display anything"
      ]
    },
    {
      "cell_type": "markdown",
      "metadata": {
        "id": "7OwudZkhuJo9"
      },
      "source": [
        "**list in Python**\n"
      ]
    },
    {
      "cell_type": "code",
      "execution_count": null,
      "metadata": {
        "colab": {
          "base_uri": "https://localhost:8080/"
        },
        "id": "eVzhDNJFxFXd",
        "outputId": "f44e4f2c-65c6-446f-b39a-fa30bf88f146"
      },
      "outputs": [],
      "source": [
        "Mylist = [1,2,3,4,\"nik\",\"N\", \"i\"]\n",
        "numlist = [0,1,2,3,4,5,6,7,8,9,10]\n",
        "\n",
        "print(Mylist)\n",
        "# in pyhton indexing start from 0\n",
        "#lower bound value includes the value in list whereas uperbound doest count in the list .\n",
        "print(numlist[0:3])\n",
        "#alternative entry on the list\n",
        "print(numlist[::2])"
      ]
    },
    {
      "cell_type": "code",
      "execution_count": null,
      "metadata": {
        "colab": {
          "base_uri": "https://localhost:8080/"
        },
        "id": "oTeJK0a7zpqN",
        "outputId": "7fdfea99-4e66-4ed4-fd4e-310e2c399f98"
      },
      "outputs": [],
      "source": [
        "#to print 3rd alternative element in the list\n",
        "print(Mylist[0:8:3])\n",
        "\n",
        "# in python there is 2 type of indexing if you go left to right it will ne 0,1,2,3\n",
        "# if you go right to left then -1,-2,-3,-4\n",
        "print(Mylist[0:-1])\n",
        "\n",
        "# to print list in reverese manner\n",
        "print (Mylist[::-1])"
      ]
    },
    {
      "cell_type": "markdown",
      "metadata": {
        "id": "vFJ8w7Cx0aP5"
      },
      "source": [
        "# data addition in List"
      ]
    },
    {
      "cell_type": "code",
      "execution_count": null,
      "metadata": {
        "colab": {
          "base_uri": "https://localhost:8080/"
        },
        "id": "kpKZNnKX0R21",
        "outputId": "3ff0a992-42c5-4658-8af4-6ace69e969fe"
      },
      "outputs": [],
      "source": [
        "fruits = [\"Banana\",\"Apple\"]\n",
        "\n",
        "fruits.append(\"Mango\")\n",
        "\n",
        "print(fruits)\n",
        "#with appends method data will be added on the last position\n"
      ]
    },
    {
      "cell_type": "code",
      "execution_count": null,
      "metadata": {
        "colab": {
          "base_uri": "https://localhost:8080/"
        },
        "id": "EznQGKw41w7d",
        "outputId": "a327a8f5-9edb-4dc2-8d45-1cedf3d16382"
      },
      "outputs": [],
      "source": [
        "#addition of 2 List\n",
        "\n",
        "List1 = [1,2,3,4,5]\n",
        "List2 = [1,2,5,9]\n",
        "\n",
        "print(List1 + List2)\n",
        "\n",
        "#if I multiply List with X(integer) it will add itself X times\n",
        "print(List1*2)"
      ]
    },
    {
      "cell_type": "code",
      "execution_count": null,
      "metadata": {
        "colab": {
          "base_uri": "https://localhost:8080/"
        },
        "id": "M8zBmF7V3MrE",
        "outputId": "4bce9885-cf2b-4b23-d01a-a653ead53a04"
      },
      "outputs": [],
      "source": [
        "#Extend method\n",
        "\n",
        "# if we wont to add List 2 in list 1 then we can use Extend method\n",
        "List1 = [1,2,3,4,5]\n",
        "List2 = [1,2,5,9]\n",
        "List1.extend(List2)\n",
        "print(List1)\n",
        "\n",
        "#if we use append method here it will add whole list2 in list 1\n",
        "List1 = [1,2,4,5]\n",
        "List2 = [7,5,9]\n",
        "\n",
        "List1.append(List2)\n",
        "print(List1)\n"
      ]
    },
    {
      "cell_type": "code",
      "execution_count": null,
      "metadata": {
        "colab": {
          "base_uri": "https://localhost:8080/"
        },
        "id": "_Nx7akDu1QPL",
        "outputId": "0548b50c-8e64-4e03-d7ca-d4dabf764fbc"
      },
      "outputs": [],
      "source": [
        "#If we wont to add data on specific index we just need to Use insert\n",
        "\n",
        "fruits1 = [\"Banana\",\"Apple\",\"cherry\",\"grapes\"]\n",
        "\n",
        "fruits1.insert(1,\"Mango\")\n",
        "print(fruits1)\n",
        "\n",
        "#whe we are looking to find any postion for any element in List\n",
        "print(fruits1.index(\"cherry\"))"
      ]
    },
    {
      "cell_type": "markdown",
      "metadata": {
        "id": "W7f-5nJC4C8o"
      },
      "source": [
        "# Data Deletion in list"
      ]
    },
    {
      "cell_type": "code",
      "execution_count": null,
      "metadata": {
        "colab": {
          "base_uri": "https://localhost:8080/"
        },
        "id": "Xz0IGGPN4Rvx",
        "outputId": "3211e94e-f3ad-4e1b-b736-7bf77f08dfb6"
      },
      "outputs": [],
      "source": [
        "names = [\"a\",\"b\",\"c\",\"d\",\"e\",\"f\"]\n",
        "\n",
        "#If we just want to remove any element from List from any position  we can use POP method\n",
        "\n",
        "names.pop(2)\n",
        "print(names)\n",
        "\n",
        "#del function also works the same\n",
        "\n",
        "del names[1]\n",
        "print(names)"
      ]
    },
    {
      "cell_type": "code",
      "execution_count": null,
      "metadata": {
        "colab": {
          "base_uri": "https://localhost:8080/"
        },
        "id": "kIJY02_k5leU",
        "outputId": "f5772384-839b-4b0b-c846-c4fcd3e78f29"
      },
      "outputs": [],
      "source": [
        "fruits = [\"Apple\", \"Banana\",\"grapes\", \"Mango\", \"strawberry\"]\n",
        "\n",
        "#if we want to remove perticulal element from list then we use Remove\n",
        "\n",
        "fruits.remove(\"Mango\")\n",
        "print(fruits)\n",
        "# if we have 2 mango in the List then it will remove only first one\n",
        "\n",
        "fruits = [\"Apple\",\"Mango\",\"Banana\",\"grapes\", \"Mango\", \"strawberry\"]\n",
        "\n",
        "fruits.remove(\"Mango\")\n",
        "print(fruits)\n",
        "\n",
        "# Remove all occurrences of \"Mango\" using a loop\n",
        "fruits = [\"Apple\",\"Mango\",\"Banana\",\"grapes\", \"Mango\", \"strawberry\"]\n",
        "\n",
        "while \"Mango\" in fruits:\n",
        "    fruits.remove(\"Mango\")\n",
        "\n",
        "print(fruits)"
      ]
    },
    {
      "cell_type": "markdown",
      "metadata": {
        "id": "Pew9uN_W7fqK"
      },
      "source": [
        "**Other Function related to LIST**"
      ]
    },
    {
      "cell_type": "code",
      "execution_count": null,
      "metadata": {
        "colab": {
          "base_uri": "https://localhost:8080/"
        },
        "id": "H_K7As8l7kKJ",
        "outputId": "bee02111-5366-4a4d-acba-6800c73aea4e"
      },
      "outputs": [],
      "source": [
        "#Count Function\n",
        "fruits = [\"Apple\",\"Mango\",\"Banana\",\"grapes\", \"Mango\", \"strawberry\"]\n",
        "\n",
        "print(fruits.count(\"Mango\"))\n",
        "\n",
        "#Len Function to find the Length of List\n",
        "\n",
        "print(len(fruits))\n",
        "\n",
        "#Sort function (it actualy sorts original list)\n",
        "\n",
        "fruits.sort()\n",
        "print(fruits)\n",
        "\n",
        "#if you dont Want to sort actial List and want sorted element for output\n",
        "fruits = [\"Apple\",\"Mango\",\"Banana\",\"grapes\", \"Mango\", \"strawberry\"]\n",
        "print(sorted(fruits))\n",
        "print(fruits)\n",
        "\n",
        "#clear (will remove all element from list)\n",
        "fruits.clear()\n",
        "print(fruits)\n",
        "\n",
        "# what if we want duplicate list # Copy\n",
        "fruits = [\"Apple\",\"Mango\",\"Banana\",\"grapes\", \"Mango\", \"strawberry\"]\n",
        "new_fruits = fruits.copy()\n",
        "print(new_fruits)"
      ]
    },
    {
      "cell_type": "markdown",
      "metadata": {
        "id": "Tag7ZCXn_Lhp"
      },
      "source": [
        "# join and Split method"
      ]
    },
    {
      "cell_type": "code",
      "execution_count": null,
      "metadata": {
        "colab": {
          "base_uri": "https://localhost:8080/"
        },
        "id": "L-8ZQTkx_TI5",
        "outputId": "deaaa208-fa65-4968-e3ad-72085703a781"
      },
      "outputs": [],
      "source": [
        "#split\n",
        "info = \"Nikhil 24 Trent MBDA\"\n",
        "\n",
        "print(info.split())\n",
        "\n",
        "a= \"nikhilbhail\"\n",
        "print(a.split(\"i\"))\n",
        "\n",
        "name, age, university, course = \"Nikhil,24,Trent,MBDA\".split(\",\")\n",
        "\n",
        "print(age)\n",
        "\n",
        "\n",
        "#Join method\n",
        "detail = ['Nikhil', \"Nakum\"]\n",
        "print((\" \".join(detail)))"
      ]
    },
    {
      "cell_type": "code",
      "execution_count": null,
      "metadata": {
        "colab": {
          "base_uri": "https://localhost:8080/",
          "height": 245
        },
        "id": "m0efjHNFYDMP",
        "outputId": "3dbcfecc-8f9a-4ee8-e2ba-b7574096a26d"
      },
      "outputs": [],
      "source": [
        "numbers = [1,4,5,7,8,10,34]\n",
        "print(min(numbers))\n",
        "print(max(numbers))\n",
        "print(sum(numbers))\n"
      ]
    },
    {
      "cell_type": "markdown",
      "metadata": {
        "id": "SPyk1WZPFR8R"
      },
      "source": [
        "# Difference Between List and Array in Python\n"
      ]
    },
    {
      "cell_type": "markdown",
      "metadata": {
        "id": "w52PodxEFUto"
      },
      "source": [
        "[List vs Array](https://www.geeksforgeeks.org/difference-between-list-and-array-in-python/)"
      ]
    },
    {
      "cell_type": "markdown",
      "metadata": {
        "id": "3BQYEzV6ZfHe"
      },
      "source": [
        "# Tuples"
      ]
    },
    {
      "cell_type": "markdown",
      "metadata": {
        "id": "RNUUwyZBbaGz"
      },
      "source": [
        "Tuples are faster than list and immutable."
      ]
    },
    {
      "cell_type": "code",
      "execution_count": null,
      "metadata": {
        "colab": {
          "base_uri": "https://localhost:8080/"
        },
        "id": "ZQDdIhwZZj6U",
        "outputId": "6ebb81b6-fc28-4fe3-b1a2-6e01be7cae74"
      },
      "outputs": [],
      "source": [
        "#methods that we can use in tuples\n",
        "\n",
        "days = (\"monday\",\"tuesday\",\"Wednesday\",\"Thursday\",\"Friday\",\"Saturday\",\"Sunday\")\n",
        "\n",
        "print(days.count(\"monday\"))\n",
        "print(days.index(\"Wednesday\"))\n",
        "print(len(days))\n",
        "\n",
        "print(days[1:7:2])"
      ]
    },
    {
      "cell_type": "code",
      "execution_count": null,
      "metadata": {
        "id": "d6ZYXJHidX5l"
      },
      "outputs": [],
      "source": [
        "one = (1) # is not tuples\n",
        "onee = (1,)  #this is tuples\n",
        "line = \"ase\",\"juk\",\"folck\"  #tuples"
      ]
    },
    {
      "cell_type": "markdown",
      "metadata": {
        "id": "wR7xni9GeAf8"
      },
      "source": [
        "**Tuple unpacking**"
      ]
    },
    {
      "cell_type": "code",
      "execution_count": null,
      "metadata": {
        "colab": {
          "base_uri": "https://localhost:8080/"
        },
        "id": "5dqy1dkAd_G2",
        "outputId": "f79fa8ad-8544-41ed-a8df-062feb49e99d"
      },
      "outputs": [],
      "source": [
        "band = (\"Alex carry\", \"Mitchal starc\", \"travis head\")\n",
        "drummer , guitarist , flutter = band\n",
        "print(drummer)"
      ]
    },
    {
      "cell_type": "markdown",
      "metadata": {
        "id": "45M_GPRKfg-h"
      },
      "source": [
        "**List in tuples**"
      ]
    },
    {
      "cell_type": "code",
      "execution_count": null,
      "metadata": {
        "colab": {
          "base_uri": "https://localhost:8080/"
        },
        "id": "mp4-blHnf3uZ",
        "outputId": "f69d35f5-04d0-45da-e32f-5ff17e18e0e3"
      },
      "outputs": [],
      "source": [
        "tuppp = (\"pochinki\",\"picado\",[\"ruins\",\"dino park\"])\n",
        "\n",
        "#we can actually change list inside the tuples\n",
        "tuppp[2].pop()\n",
        "print(tuppp)\n"
      ]
    },
    {
      "cell_type": "markdown",
      "metadata": {
        "id": "00-652UNhuRR"
      },
      "source": [
        "***list to tuples <>***"
      ]
    },
    {
      "cell_type": "code",
      "execution_count": null,
      "metadata": {
        "colab": {
          "base_uri": "https://localhost:8080/"
        },
        "id": "dqLD3cXah1qh",
        "outputId": "768da0e5-15bd-4c77-ae54-a5448465cf49"
      },
      "outputs": [],
      "source": [
        "num = [1,2,3,4,5,6,7]\n",
        "\n",
        "num = tuple(num)\n",
        "\n",
        "print(num)\n",
        "\n",
        "num = list(num)\n",
        "\n",
        "print(num)"
      ]
    },
    {
      "cell_type": "markdown",
      "metadata": {
        "id": "WaswQXyFjAnE"
      },
      "source": [
        "# Set"
      ]
    },
    {
      "cell_type": "markdown",
      "metadata": {
        "id": "1LXg17VxjIFn"
      },
      "source": [
        "unordered(no indexing) collaction of unique items(no repetation)\n",
        "\n",
        "we can not store tuples, list or dictionary in Set"
      ]
    },
    {
      "cell_type": "code",
      "execution_count": null,
      "metadata": {
        "colab": {
          "base_uri": "https://localhost:8080/"
        },
        "id": "43C-aLlwjGlx",
        "outputId": "db045134-2d7c-480f-fc8b-8646e2b51fbc"
      },
      "outputs": [],
      "source": [
        "s = {3,4,2,1,4}\n",
        "\n",
        "print(s)\n",
        "\n",
        "#s[1] will gives us error"
      ]
    },
    {
      "cell_type": "code",
      "execution_count": null,
      "metadata": {
        "colab": {
          "base_uri": "https://localhost:8080/"
        },
        "id": "1ww1VVFpkKTd",
        "outputId": "7ae3b72c-6a64-4f7a-e548-bb0b7930c0b1"
      },
      "outputs": [],
      "source": [
        "#how to remove duplicate number using set\n",
        "\n",
        "l = [1,2,3,4,1,27,2,6,4,3,2,3,8,5,6,3,9,7,7,2,9]\n",
        "\n",
        "l =list(set(l))\n",
        "print(l)"
      ]
    },
    {
      "cell_type": "markdown",
      "metadata": {
        "id": "4ZopAt45lWXb"
      },
      "source": [
        "**Set manipulation**"
      ]
    },
    {
      "cell_type": "code",
      "execution_count": null,
      "metadata": {
        "colab": {
          "base_uri": "https://localhost:8080/"
        },
        "id": "zMSDE2SXlbUe",
        "outputId": "555ee715-9ec5-4a89-fbcc-b40ec8931e83"
      },
      "outputs": [],
      "source": [
        "s = {1,2,3}\n",
        "s.add(5)\n",
        "s.add(1)\n",
        "\n",
        "print(s)\n",
        "\n",
        "s.remove(1)\n",
        "#s.remove(6) # this will gives us error\n",
        "print(s)\n",
        "\n",
        "s.discard(6)  #this will not give us error\n",
        "print(s)\n",
        "\n",
        "s.clear()\n",
        "print(s)\n",
        "\n",
        "s1 = {1,1.0,2,4,\"stringgg\"}\n",
        "print(s1)"
      ]
    },
    {
      "cell_type": "markdown",
      "metadata": {
        "id": "vbM3o56knx4C"
      },
      "source": [
        "We can use If-else and loops"
      ]
    },
    {
      "cell_type": "markdown",
      "metadata": {
        "id": "ly0VCMw-nx_F"
      },
      "source": [
        "**UNION and INTERSACTION**"
      ]
    },
    {
      "cell_type": "code",
      "execution_count": null,
      "metadata": {
        "colab": {
          "base_uri": "https://localhost:8080/"
        },
        "id": "ANCUK6TSoDBM",
        "outputId": "8586a971-8a3e-4208-bbad-5ca564c2d47a"
      },
      "outputs": [],
      "source": [
        "s1 ={1,2,3,5,6}\n",
        "s2 ={2,3,6,7,9}\n",
        "\n",
        "#union\n",
        "print(s1 | s2)\n",
        "\n",
        "#intersaction\n",
        "print(s1 & s2)\n"
      ]
    },
    {
      "cell_type": "markdown",
      "metadata": {
        "id": "8BJafPNqzn3z"
      },
      "source": [
        "# Dictionary\n",
        "\n",
        "it comes with keys and associated value with it."
      ]
    },
    {
      "cell_type": "code",
      "execution_count": null,
      "metadata": {
        "colab": {
          "base_uri": "https://localhost:8080/"
        },
        "id": "A1v-6l0ezzfc",
        "outputId": "2699a0ba-e718-4075-e23d-22ab2f76981c"
      },
      "outputs": [],
      "source": [
        "#create\n",
        "\n",
        "user = {\"name\" : \"Nikhil\", \"Age\" : 24 }\n",
        "#OR\n",
        "user2 = dict(Name = \"NIK\", Age = 23)\n",
        "print(user)\n",
        "print(user2)\n",
        "\n",
        "print(user[\"name\"])"
      ]
    },
    {
      "cell_type": "code",
      "execution_count": null,
      "metadata": {
        "colab": {
          "base_uri": "https://localhost:8080/"
        },
        "id": "6uERArTZ2kSX",
        "outputId": "656b24e1-aa9e-4f99-c376-a497aad66b34"
      },
      "outputs": [],
      "source": [
        "user_info = {\"name\" : \"Nik\"}\n",
        "user_info[\"name\"] = \"Nikhil\"\n",
        "user_info[\"Movies\"] = [\"FSG\",\"ERF\"]\n",
        "\n",
        "print(user_info)"
      ]
    },
    {
      "cell_type": "markdown",
      "metadata": {
        "id": "i6hc9cFR3cEb"
      },
      "source": [
        "If- Else"
      ]
    },
    {
      "cell_type": "code",
      "execution_count": null,
      "metadata": {
        "colab": {
          "base_uri": "https://localhost:8080/"
        },
        "id": "j8SqT8FN3gO3",
        "outputId": "659ac6bf-97c5-46e2-b0c9-c4b20acf1f73"
      },
      "outputs": [],
      "source": [
        "#to check key in dictionary\n",
        "if \"name\" in user_info:\n",
        "  print(\"Present\")\n",
        "else:\n",
        "  print(\"Not present\")\n",
        "\n",
        "#to check value in dictionary\n",
        "\n",
        "if \"Nikil\" in user_info.values():\n",
        "  print(\"Present\")\n",
        "else:\n",
        "  print(\"Not here\")"
      ]
    },
    {
      "cell_type": "code",
      "execution_count": null,
      "metadata": {
        "colab": {
          "base_uri": "https://localhost:8080/"
        },
        "id": "qAeNVayJEsfZ",
        "outputId": "3f9f2059-7e29-4557-da0b-c9cece1a6568"
      },
      "outputs": [],
      "source": [
        "#All keys in dictionary\n",
        "for i in user_info:\n",
        "  print(i)\n",
        "#All values in dictionary\n",
        "for j in user_info.values():\n",
        "  print(j)"
      ]
    },
    {
      "cell_type": "markdown",
      "metadata": {
        "id": "7Q7b8TEgF0Xd"
      },
      "source": [
        "Data manipulations in dictionary"
      ]
    },
    {
      "cell_type": "code",
      "execution_count": null,
      "metadata": {
        "colab": {
          "base_uri": "https://localhost:8080/"
        },
        "id": "AH20qKmzF5US",
        "outputId": "9a3565c2-da65-4142-d707-4728e6f11191"
      },
      "outputs": [],
      "source": [
        "user_info = {'name': 'Nikhil', 'Movies': ['FSG', 'ERF']}\n",
        "user_info[\"Age\"] = 30\n",
        "\n",
        "print(user_info)\n",
        "\n",
        "user_info.pop(\"Movies\")\n",
        "print(user_info)\n",
        "\n",
        "#if we randomaly remove any item is popitem():\n",
        "\n",
        "\n",
        "more_info = dict(IELTS = 7 , GPA = 3.93)\n",
        "\n",
        "user_info.update(more_info)\n",
        "\n",
        "print(user_info)"
      ]
    },
    {
      "cell_type": "markdown",
      "metadata": {
        "id": "6ri4F99tfqYE"
      },
      "source": [
        "To be continued from 119/120"
      ]
    },
    {
      "cell_type": "markdown",
      "metadata": {
        "id": "29sTfjbff0iE"
      },
      "source": [
        "# Numpy in Python\n",
        "\n",
        "Faster then list bcz its binding with c programming\n",
        "1-d array : Vector\n",
        "2-d array : matrix\n",
        "n-d array : tensor"
      ]
    },
    {
      "cell_type": "code",
      "execution_count": null,
      "metadata": {
        "colab": {
          "base_uri": "https://localhost:8080/"
        },
        "id": "m69zfP6sf6yy",
        "outputId": "197fa898-f3af-4ab2-f969-86dba119d293"
      },
      "outputs": [],
      "source": [
        "import numpy as np\n",
        "\n",
        "numbers = [1,2,3,4.0]\n",
        "\n",
        "numbers = np.array(numbers)\n",
        "print(numbers)\n",
        "\n",
        "numbers.ndim #dimension\n",
        "numbers.shape #(row, column)\n",
        "numbers.dtype #datatype of element in array\n",
        "\n",
        "numbers.size #length or total elements\n",
        "\n"
      ]
    },
    {
      "cell_type": "code",
      "execution_count": null,
      "metadata": {
        "colab": {
          "base_uri": "https://localhost:8080/"
        },
        "id": "uOIMHlt1lOhe",
        "outputId": "4c151cc2-9af4-449d-f16c-3432664ce978"
      },
      "outputs": [],
      "source": [
        "arr = np.zeros((2,4))\n",
        "arr"
      ]
    },
    {
      "cell_type": "code",
      "execution_count": null,
      "metadata": {
        "colab": {
          "base_uri": "https://localhost:8080/"
        },
        "id": "DDFpLmrMlSkf",
        "outputId": "d8e4c589-7e4e-435b-ea87-66cdd2286bb0"
      },
      "outputs": [],
      "source": [
        "arr = np.ones((2,3))\n",
        "arr"
      ]
    },
    {
      "cell_type": "code",
      "execution_count": null,
      "metadata": {
        "colab": {
          "base_uri": "https://localhost:8080/"
        },
        "id": "_MmmktsKl9xP",
        "outputId": "ab163a5b-5702-4dd5-bc29-7a0e36dc4405"
      },
      "outputs": [],
      "source": [
        "arr = np.eye(5)\n",
        "arr"
      ]
    },
    {
      "cell_type": "code",
      "execution_count": null,
      "metadata": {
        "colab": {
          "base_uri": "https://localhost:8080/"
        },
        "id": "GJykcOI5l90L",
        "outputId": "91fddbfc-1da9-4f84-a1ca-60ca7603da76"
      },
      "outputs": [],
      "source": [
        "arr = np.diag([5,-3,2])\n",
        "arr\n",
        "\n",
        "#if we are looking too get just diagonal element from given matrix then\n",
        "diangonal = np.diag(arr)\n",
        "diangonal"
      ]
    },
    {
      "cell_type": "code",
      "execution_count": null,
      "metadata": {
        "colab": {
          "base_uri": "https://localhost:8080/"
        },
        "id": "32wQgqmlqaii",
        "outputId": "f92c0522-d2c7-4732-f28b-23cbe5a030e2"
      },
      "outputs": [],
      "source": [
        "# number range  generator.\n",
        "\n",
        "arr = np.arange(1,5,0.5) #(Lower,high, difference)\n",
        "arr"
      ]
    },
    {
      "cell_type": "code",
      "execution_count": null,
      "metadata": {
        "colab": {
          "base_uri": "https://localhost:8080/"
        },
        "id": "w4VU9Hmal934",
        "outputId": "a777216d-4a8b-4d0e-fa7f-229ec33bb4f2"
      },
      "outputs": [],
      "source": [
        "#random integer number generator.\n",
        "\n",
        "arr = np.random.randint(1,12,4) #(Lower,high, n)\n",
        "arr"
      ]
    },
    {
      "cell_type": "code",
      "execution_count": null,
      "metadata": {
        "colab": {
          "base_uri": "https://localhost:8080/"
        },
        "id": "J7YzGEHImmoH",
        "outputId": "b1394abf-81cf-41b7-f415-20f1d2f0ccf1"
      },
      "outputs": [],
      "source": [
        "arr = np.random.rand(5,2) #(float value between 0 to 1, (nrow,ncol)\n",
        "arr"
      ]
    },
    {
      "cell_type": "code",
      "execution_count": null,
      "metadata": {
        "colab": {
          "base_uri": "https://localhost:8080/"
        },
        "id": "bIiiJmdkmmre",
        "outputId": "a6f2553e-d7c4-487b-a3e4-499e328339e3"
      },
      "outputs": [],
      "source": [
        "arr = np.random.randn(5) #Normal distribution,(nrow, ncol)\n",
        "arr"
      ]
    },
    {
      "cell_type": "markdown",
      "metadata": {
        "id": "9mYTLdS7pC8S"
      },
      "source": [
        "**array reshapping**"
      ]
    },
    {
      "cell_type": "code",
      "execution_count": null,
      "metadata": {
        "colab": {
          "base_uri": "https://localhost:8080/"
        },
        "id": "6RdNDdakpDUe",
        "outputId": "2ccd2f8c-8765-4a03-9fd6-85cbcfd5c2d3"
      },
      "outputs": [],
      "source": [
        "arr1 = np.random.randint(1,10,32)\n",
        "arr1\n",
        "arr2 = arr1.reshape(4,2,4)\n",
        "arr2\n",
        "\n",
        "arr3 = arr2.reshape(4,8)\n",
        "arr3"
      ]
    },
    {
      "cell_type": "code",
      "execution_count": null,
      "metadata": {
        "colab": {
          "base_uri": "https://localhost:8080/"
        },
        "id": "ikN84XAkq2Xr",
        "outputId": "3eda8151-55c8-481e-951e-1bee5e4510bf"
      },
      "outputs": [],
      "source": [
        "#Let suppose we dont know ncol or nrow instead we write -1 it will count accordingly\n",
        "arr5 = arr1.reshape(-1,4,4) #-1 counts as 2 => 4*4*2 =32\n",
        "arr5"
      ]
    },
    {
      "cell_type": "markdown",
      "metadata": {
        "id": "ERhvoo_Zshw9"
      },
      "source": [
        "**Set_seed**"
      ]
    },
    {
      "cell_type": "code",
      "execution_count": null,
      "metadata": {
        "colab": {
          "base_uri": "https://localhost:8080/"
        },
        "id": "frOG6jvvsfvA",
        "outputId": "a2a0f50b-3c25-4374-ed07-9227ffe554db"
      },
      "outputs": [],
      "source": [
        "np.random.seed(42) #Tell the computer to generate the same random numbers every time.\n",
        "\n",
        "random_numbers = np.random.rand(5)\n",
        "random_numbers"
      ]
    },
    {
      "cell_type": "markdown",
      "metadata": {
        "id": "3ywI2wEwtiMG"
      },
      "source": [
        "## Indexing and slicing"
      ]
    },
    {
      "cell_type": "code",
      "execution_count": null,
      "metadata": {
        "colab": {
          "base_uri": "https://localhost:8080/"
        },
        "id": "L-GVJss7sfxp",
        "outputId": "dbd0918d-0ab0-446b-f8c7-d1cf58d60965"
      },
      "outputs": [],
      "source": [
        "arr_num = np.array([1,2,3,4,5,6,1,23,4,5])\n",
        "arr_num[5]\n",
        "#same indexing as a List\n",
        "\n",
        "#e.g -1 for last element\n",
        "\n",
        "arr_num[5:-1:2]  #[lower: upper : difference]"
      ]
    },
    {
      "cell_type": "code",
      "execution_count": null,
      "metadata": {
        "colab": {
          "base_uri": "https://localhost:8080/"
        },
        "id": "tST-vylnsf04",
        "outputId": "430c960c-361c-4eca-ade4-937f893eb3d7"
      },
      "outputs": [],
      "source": [
        "#How about 2d array\n",
        "\n",
        "matrix = np.array([[1,2,3],[4,5,6],[7,8,9]])\n",
        "matrix\n",
        "\n",
        "#Lets find postion of 6\n",
        "matrix[1][2]\n",
        "\n",
        "matrix[2][0:2]\n",
        "\n",
        "matrix[1:]"
      ]
    },
    {
      "cell_type": "code",
      "execution_count": null,
      "metadata": {
        "colab": {
          "base_uri": "https://localhost:8080/"
        },
        "id": "aFdRlUItsf4Z",
        "outputId": "4cea07c7-ef07-4247-9702-78670a36fc02"
      },
      "outputs": [],
      "source": [
        "matrix[1:,1:] #mostaly use this for slicing"
      ]
    },
    {
      "cell_type": "markdown",
      "metadata": {
        "id": "VZZCByjT2ype"
      },
      "source": [
        "**View vs Copy**"
      ]
    },
    {
      "cell_type": "code",
      "execution_count": null,
      "metadata": {
        "colab": {
          "base_uri": "https://localhost:8080/"
        },
        "id": "RQ_D3U2Tsf7_",
        "outputId": "c9585e0b-8c9d-4460-9cd3-9ee0731b110f"
      },
      "outputs": [],
      "source": [
        "arr = np.array([1,4,2,6,3,4,9,7])\n",
        "samp_arr = arr[1:5]\n",
        "\n",
        "print(samp_arr)\n",
        "\n",
        "samp_arr[:] = 0 #this will change the original array as well.\n",
        "\n",
        "print(arr)\n",
        "\n",
        "samp_arr = arr[1:5].copy() # this will locate in different memory.\n",
        "\n",
        "samp_arr[:] = 2\n",
        "\n",
        "print(arr)\n"
      ]
    },
    {
      "cell_type": "markdown",
      "metadata": {
        "id": "wMUmzwVg4gQ1"
      },
      "source": [
        "Conditional Selection(Filter)"
      ]
    },
    {
      "cell_type": "code",
      "execution_count": null,
      "metadata": {
        "colab": {
          "base_uri": "https://localhost:8080/"
        },
        "id": "7OBe1e8Ysf-g",
        "outputId": "05c57612-eb69-444e-a0a2-046fade2c0c6"
      },
      "outputs": [],
      "source": [
        "num1 = np.arange(1,11)\n",
        "\n",
        "print(num1[num1 > 5])\n",
        "print(num1[num1%2 == 1])"
      ]
    },
    {
      "cell_type": "markdown",
      "metadata": {
        "id": "esu-YUQk5PUc"
      },
      "source": [
        "**Arithmetic Operations**"
      ]
    },
    {
      "cell_type": "code",
      "execution_count": null,
      "metadata": {
        "colab": {
          "base_uri": "https://localhost:8080/"
        },
        "id": "Ecy-IIVd5ONC",
        "outputId": "54360ec2-aa50-41a4-9872-c243964bec0d"
      },
      "outputs": [],
      "source": [
        "print(num1 + 2)\n",
        "print(num1 ** 2)\n",
        "num2 = np.arange(11,21)\n",
        "print(num1+num2) #shape and size should be same\n",
        "print(num1*num2)\n"
      ]
    },
    {
      "cell_type": "code",
      "execution_count": null,
      "metadata": {
        "colab": {
          "base_uri": "https://localhost:8080/"
        },
        "id": "dLEndQU3sgB5",
        "outputId": "98565ba7-48cd-4c0d-f1a7-db7b98dd7f29"
      },
      "outputs": [],
      "source": [
        "#dot product\n",
        "\n",
        "a = np.array([[1,2],[2,4]])\n",
        "b = a = np.array([[1,3],[2,8]])\n",
        "a.dot(b)"
      ]
    },
    {
      "cell_type": "code",
      "execution_count": null,
      "metadata": {
        "colab": {
          "base_uri": "https://localhost:8080/"
        },
        "id": "rWj5AYvW-XBM",
        "outputId": "e7f03713-c12f-4406-e927-169b9350b856"
      },
      "outputs": [],
      "source": [
        "np.sum(num1)\n",
        "np.median(num1)\n",
        "np.mean(num1)\n",
        "np.max(num1)\n",
        "np.argmax(num1)  #giving us position of max element in array\n",
        "np.std(num1) #standard deviation\n",
        "\n",
        "np.sqrt(num1)\n",
        "np.exp(num1)\n",
        "\n",
        "np.sin(num1)\n",
        "np.tan(num1)\n",
        "\n",
        "np.linspace(1,10, 20) # (lower,upper, how many equldistance number we want )"
      ]
    },
    {
      "cell_type": "markdown",
      "metadata": {
        "id": "uW_1h4emAeHR"
      },
      "source": [
        "**AXIS**\n",
        "\n",
        "NumPy's axis specifies direction (rows or columns) for operations on arrays"
      ]
    },
    {
      "cell_type": "code",
      "execution_count": null,
      "metadata": {
        "colab": {
          "base_uri": "https://localhost:8080/"
        },
        "id": "VoEI46AL-XEG",
        "outputId": "39484a27-0898-470c-ac01-81805e0bbaae"
      },
      "outputs": [],
      "source": [
        "arr = np.array([[5, 2, 6],\n",
        "                [9, 8, 4],\n",
        "                [7,2,3]])\n",
        "\n",
        "# max along axis 0 (columns)\n",
        "result = np.max(arr, axis=0)\n",
        "print(result)\n",
        "# sum along axis 1 (rows)\n",
        "result = np.sum(arr, axis=1)\n",
        "print(result)\n",
        "# product along axis 1 (rows)\n",
        "result = np.prod(arr, axis=1)\n",
        "print(result)\n",
        "\n",
        "#cumulative Sum\n",
        "print(np.cumsum(arr))\n",
        "np.cumsum(arr, axis = 0) #column wise and just column"
      ]
    },
    {
      "cell_type": "markdown",
      "metadata": {
        "id": "6dTJ_9EBCvFI"
      },
      "source": [
        "### Axis In a 3D NumPy array:\n",
        "\n",
        "axis=0:\n",
        "Operations work along the first axis (slices across multiple matrices).\n",
        "\n",
        "axis=1:\n",
        "Operations work along the second axis (operate within each matrix).\n",
        "\n",
        "axis=2:\n",
        "Operations work along the third axis (operate within each row)."
      ]
    },
    {
      "cell_type": "code",
      "execution_count": null,
      "metadata": {
        "colab": {
          "base_uri": "https://localhost:8080/"
        },
        "id": "Pyu_LnBz-XGY",
        "outputId": "cd2c2728-8ef8-46ba-8b0c-4af52bd4838f"
      },
      "outputs": [],
      "source": [
        "\n",
        "arr_3d = np.array([[[1, 2, 3],\n",
        "                    [4, 5, 6]],\n",
        "\n",
        "                   [[7, 8, 9],\n",
        "                    [10, 11, 12]],\n",
        "\n",
        "                   [[13, 14, 15],\n",
        "                    [16, 17, 18]]])\n",
        "print(\"Original 3D Array:\")\n",
        "print(arr_3d)\n",
        "# Sum along axis 0 (slices across matrices) each  element sum in 2D erray like 6+12+18\n",
        "sum_axis_0 = np.sum(arr_3d, axis=0)\n",
        "\n",
        "# Sum along axis 1 (operate within each matrix) #each 2D matix column\n",
        "sum_axis_1 = np.sum(arr_3d, axis=1)\n",
        "\n",
        "# Sum along axis 2 (operate within each row)\n",
        "sum_axis_2 = np.sum(arr_3d, axis=2)\n",
        "\n",
        "print(\"\\nSum along Axis 0:\")\n",
        "print(sum_axis_0)\n",
        "\n",
        "print(\"\\nSum along Axis 1:\")\n",
        "print(sum_axis_1)\n",
        "\n",
        "print(\"\\nSum along Axis 2:\")\n",
        "print(sum_axis_2)"
      ]
    },
    {
      "cell_type": "markdown",
      "metadata": {
        "id": "LcTpWbdr8nqX"
      },
      "source": [
        "**Shuffle & Unique**"
      ]
    },
    {
      "cell_type": "code",
      "execution_count": null,
      "metadata": {
        "colab": {
          "base_uri": "https://localhost:8080/"
        },
        "id": "CJzVCYl--XI5",
        "outputId": "e3a62ef4-ca13-4b91-cf9b-cc098b372fab"
      },
      "outputs": [],
      "source": [
        "import numpy as np\n",
        "np.random.seed(3)\n",
        "\n",
        "arr = np.random.randint(1, 11, 15)\n",
        "print(\"Original array:\", arr)\n",
        "\n",
        "np.random.shuffle(arr)\n",
        "print(\"Shuffled array:\", arr)\n",
        "\n",
        "print(np.unique(arr).size)\n",
        "np.unique(arr, return_counts=True, return_index =True)"
      ]
    },
    {
      "cell_type": "markdown",
      "metadata": {
        "id": "PXbCrw4I_Owa"
      },
      "source": [
        "**Horizontal anad Vertical stacking**"
      ]
    },
    {
      "cell_type": "code",
      "execution_count": null,
      "metadata": {
        "colab": {
          "base_uri": "https://localhost:8080/"
        },
        "id": "9pdCIf6G-XL1",
        "outputId": "40ea8651-8237-483f-b1e0-9ae6603ad9b3"
      },
      "outputs": [],
      "source": [
        "np.random.seed(33)\n",
        "matrix1 = np.random.randint(1, 11, 9).reshape(3,3)\n",
        "matrix2 = np.random.randint(5, 16, 9).reshape(3,3)\n",
        "\n",
        "#Horizontal stacking\n",
        "np.hstack((matrix1,matrix2))\n",
        "\n",
        "#Vertical stacking\n",
        "np.vstack((matrix1,matrix2))\n",
        "\n",
        "#1-D Array\n",
        "array1 = np.random.randint(2, 11, 5)\n",
        "array2 = np.random.randint(21, 31, 5)\n",
        "\n",
        "np.hstack((array1,array2))\n",
        "np.vstack((array1,array2))\n"
      ]
    },
    {
      "cell_type": "markdown",
      "metadata": {
        "id": "mNozNHeaw0Fr"
      },
      "source": [
        "# Let start with pandas in Python 3.0"
      ]
    },
    {
      "cell_type": "code",
      "execution_count": null,
      "metadata": {},
      "outputs": [],
      "source": [
        "import pandas as pd\n"
      ]
    },
    {
      "cell_type": "markdown",
      "metadata": {},
      "source": [
        "#  OOP In Python"
      ]
    },
    {
      "cell_type": "markdown",
      "metadata": {},
      "source": [
        "A **_class_** in Python is a blueprint for creating objects. It defines the structure and behavior (data and methods) that the objects created from it will have.\n",
        "\n",
        "An **object** is an instance of a class. It represents the real-world entity or concept that the class describes.\n",
        "\n",
        "A **method** is a function defined within a class that operates on instances of that class.\n",
        "\n"
      ]
    },
    {
      "cell_type": "code",
      "execution_count": 1,
      "metadata": {},
      "outputs": [
        {
          "name": "stdout",
          "output_type": "stream",
          "text": [
            "Alice\n",
            "25\n",
            "Hello, my name is Alice and I am 25 years old.\n"
          ]
        }
      ],
      "source": [
        "# Define a class\n",
        "class Person:\n",
        "    # Constructor to initialize attributes\n",
        "    def __init__(self, name, age):\n",
        "        self.name = name  # Attribute\n",
        "        self.age = age    # Attribute\n",
        "\n",
        "    # Method to greet\n",
        "    def greet(self):\n",
        "        return f\"Hello, my name is {self.name} and I am {self.age} years old.\"\n",
        "\n",
        "# Create an object (instance of the class)\n",
        "person1 = Person(\"Alice\", 25)\n",
        "\n",
        "# Access attributes\n",
        "print(person1.name)  # Output: Alice\n",
        "print(person1.age)   # Output: 25\n",
        "\n",
        "# Call a method\n",
        "print(person1.greet())  # Output: Hello, my name is Alice and I am 25 years old.\n"
      ]
    },
    {
      "cell_type": "code",
      "execution_count": 13,
      "metadata": {},
      "outputs": [
        {
          "name": "stdout",
          "output_type": "stream",
          "text": [
            "hey Jay!\n"
          ]
        }
      ],
      "source": [
        "# test.py\n",
        "def greet(name):\n",
        "    print(f\"hey {name}!\")\n",
        "\n",
        "\n",
        "if __name__ == \"__main__\":\n",
        "    greet(\"Jay\")\n"
      ]
    },
    {
      "cell_type": "markdown",
      "metadata": {},
      "source": [
        "### Running a Python class or function internally within the same file\n",
        "\n",
        "```python\n",
        "# If you want to run the class or function internally in the same file\n",
        "if __name__ == \"__main__\":\n",
        "    main()\n",
        "\n",
        "\n",
        "# If you want to use the class or function externally in another file\n",
        "import test\n",
        "\n",
        "test.greet(\"Nikhil\")\n"
      ]
    },
    {
      "cell_type": "markdown",
      "metadata": {},
      "source": [
        "### Encapsulation\n",
        "Encapsulation in object-oriented programming (OOP) is like putting the internal workings of an object inside a \"box\" and only allowing controlled access to it from the outside.\n",
        "\n",
        "[Encapsulation](https://www.youtube.com/shorts/WFkLEK_hpAE)\n",
        "\n"
      ]
    },
    {
      "cell_type": "code",
      "execution_count": null,
      "metadata": {},
      "outputs": [],
      "source": [
        "class BankAccount:\n",
        "    def __init__(self, balance):\n",
        "        self.__balance = balance  # Private attribute (hidden)\n",
        "\n",
        "    def deposit(self, amount):\n",
        "        if amount > 0:\n",
        "            self.__balance += amount\n",
        "\n",
        "    def withdraw(self, amount):\n",
        "        if 0 < amount <= self.__balance:\n",
        "            self.__balance -= amount\n",
        "\n",
        "    def get_balance(self):  # Public method to access private data\n",
        "        return self.__balance\n",
        "\n",
        "# Create an object\n",
        "account = BankAccount(1000)\n",
        "\n",
        "# You cannot directly change __balance, but can use methods to modify it\n",
        "account.deposit(500)\n",
        "account.withdraw(200)\n",
        "\n",
        "# Access the balance safely using a getter method\n",
        "print(\"Balance:\", account.get_balance())  # Output: Balance: 1300\n"
      ]
    },
    {
      "cell_type": "markdown",
      "metadata": {},
      "source": [
        "### Inheritance\n",
        "\n",
        "Inheritance in Object-Oriented Programming (OOP) in Python is a way for one class to use the attributes and methods of another class. It's like a child inheriting traits from their parent."
      ]
    },
    {
      "cell_type": "code",
      "execution_count": 19,
      "metadata": {},
      "outputs": [
        {
          "name": "stdout",
          "output_type": "stream",
          "text": [
            "Dog barks\n"
          ]
        }
      ],
      "source": [
        "# Base class (Parent class)\n",
        "class Animal:\n",
        "    def speak(self):\n",
        "        print(\"Animal makes a sound\")\n",
        "\n",
        "# Derived class (Child class) that inherits from Animal\n",
        "class Dog(Animal):\n",
        "    def speak(self):  # Overriding the speak method\n",
        "        print(\"Dog barks\")\n",
        "\n",
        "# Creating an object of the Dog class\n",
        "my_dog = Dog()\n",
        "\n",
        "# Calling the method\n",
        "my_dog.speak()  # Output: Dog barks\n"
      ]
    },
    {
      "cell_type": "markdown",
      "metadata": {},
      "source": [
        "### Polymorphism\n",
        "\n",
        "Polymorphism in programming means that a single function or method can work with different types of objects, and it behaves differently depending on the type of the object it is working with.\n",
        "\n"
      ]
    },
    {
      "cell_type": "code",
      "execution_count": 20,
      "metadata": {},
      "outputs": [
        {
          "name": "stdout",
          "output_type": "stream",
          "text": [
            "Area of Rectangle: 50\n",
            "Area of Circle: 153.9384\n"
          ]
        }
      ],
      "source": [
        "class Shape:\n",
        "    def area(self):\n",
        "        pass  # Placeholder for subclasses to implement the area calculation\n",
        "\n",
        "class Rectangle(Shape):\n",
        "    def __init__(self, width, height):\n",
        "        self.width = width\n",
        "        self.height = height\n",
        "    \n",
        "    def area(self):\n",
        "        return self.width * self.height  # Area of rectangle\n",
        "\n",
        "class Circle(Shape):\n",
        "    def __init__(self, radius):\n",
        "        self.radius = radius\n",
        "    \n",
        "    def area(self):\n",
        "        return 3.1416 * self.radius * self.radius  # Area of circle\n",
        "\n",
        "# Create objects of Rectangle and Circle\n",
        "rectangle = Rectangle(10, 5)\n",
        "circle = Circle(7)\n",
        "\n",
        "# Call the same method 'area' on different objects\n",
        "print(\"Area of Rectangle:\", rectangle.area())  \n",
        "print(\"Area of Circle:\", circle.area())       \n"
      ]
    },
    {
      "cell_type": "markdown",
      "metadata": {},
      "source": [
        "!"
      ]
    },
    {
      "cell_type": "markdown",
      "metadata": {},
      "source": [
        "[Abstraction](https://www.youtube.com/shorts/ABEtGgB_XSo)\n"
      ]
    },
    {
      "cell_type": "code",
      "execution_count": null,
      "metadata": {},
      "outputs": [],
      "source": [
        "from abc import ABC, abstractmethod\n",
        "\n",
        "# Abstract class\n",
        "class Vehicle(ABC):  # Abstract base class\n",
        "    @abstractmethod\n",
        "    def start_engine(self):  # Abstract method\n",
        "        pass\n",
        "\n",
        "    @abstractmethod\n",
        "    def stop_engine(self):  # Abstract method\n",
        "        pass\n",
        "\n",
        "# Concrete subclass for Car\n",
        "class Car(Vehicle):\n",
        "    def start_engine(self):\n",
        "        print(\"The car engine starts with a key turn.\")\n",
        "\n",
        "    def stop_engine(self):\n",
        "        print(\"The car engine stops with a button press.\")\n",
        "\n",
        "# Concrete subclass for Motorcycle\n",
        "class Motorcycle(Vehicle):\n",
        "    def start_engine(self):\n",
        "        print(\"The motorcycle engine starts with a kick.\")\n",
        "\n",
        "    def stop_engine(self):\n",
        "        print(\"The motorcycle engine stops with a switch.\")\n",
        "\n",
        "# Concrete subclass for Boat\n",
        "class Boat(Vehicle):\n",
        "    def start_engine(self):\n",
        "        print(\"The boat engine starts with a push button.\")\n",
        "\n",
        "    def stop_engine(self):\n",
        "        print(\"The boat engine stops with a lever pull.\")\n",
        "\n",
        "# Creating objects\n",
        "car = Car()\n",
        "motorcycle = Motorcycle()\n",
        "boat = Boat()\n",
        "\n",
        "# Calling the start and stop engine methods\n",
        "car.start_engine()     # Output: The car engine starts with a key turn.\n",
        "car.stop_engine()      # Output: The car engine stops with a button press.\n",
        "\n",
        "motorcycle.start_engine()  # Output: The motorcycle engine starts with a kick.\n",
        "motorcycle.stop_engine()   # Output: The motorcycle engine stops with a switch.\n",
        "\n",
        "boat.start_engine()       # Output: The boat engine starts with a push button.\n",
        "boat.stop_engine()        # Output: The boat engine stops with a lever pull.\n"
      ]
    }
  ],
  "metadata": {
    "colab": {
      "provenance": []
    },
    "kernelspec": {
      "display_name": "Python 3",
      "name": "python3"
    },
    "language_info": {
      "codemirror_mode": {
        "name": "ipython",
        "version": 3
      },
      "file_extension": ".py",
      "mimetype": "text/x-python",
      "name": "python",
      "nbconvert_exporter": "python",
      "pygments_lexer": "ipython3",
      "version": "3.12.3"
    }
  },
  "nbformat": 4,
  "nbformat_minor": 0
}
